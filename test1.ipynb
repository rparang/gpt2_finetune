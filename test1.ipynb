{
 "cells": [
  {
   "cell_type": "code",
   "execution_count": 3,
   "id": "35ac260a-6a66-417b-9cea-3920a1692e41",
   "metadata": {},
   "outputs": [],
   "source": [
    "import os\n",
    "import tiktoken\n",
    "import math\n",
    "from dataclasses import dataclass\n",
    "import torch\n",
    "import torch.nn as nn\n",
    "from torch.nn import functional as F\n",
    "\n",
    "# ----------------------------------------------------------\n",
    "\n",
    "class DataLoaderLite:\n",
    "\tdef __init__(self, B, T):\n",
    "\t\tself.B = B\n",
    "\t\tself.T = T\n",
    "\n",
    "\t\t# at init load tokens from disk and store them in memory\n",
    "\t\twith open('input.txt', 'r') as f:\n",
    "\t\t\ttext = f.read()\n",
    "\t\tenc = tiktoken.get_encoding('gpt2')\n",
    "\t\ttokens = enc.encode(text)\n",
    "\t\tself.tokens = torch.tensor(tokens)\n",
    "\t\tprint(f\"loaded {len(self.tokens)} tokens\")\n",
    "\t\tprint(f\"1 epoch = {len(self.tokens) // (B * T)} batches\")\n",
    "\n",
    "\t\t# state\n",
    "\t\tself.current_position = 0\n",
    "\n",
    "\tdef next_batch(self):\n",
    "\t\tB, T = self.B, self.T\n",
    "\t\tbuf = self.tokens[self.current_position:self.current_position + B * T + 1]\n",
    "\t\tx = (buf[:-1]).view(B, T) # inputs\n",
    "\t\ty = (buf[1:]).view(B, T) # targets\n",
    "\n",
    "\t\tself.current_position += B * T\n",
    "\n",
    "\t\tif self.current_position + (B * T + 1) > len(self.tokens):\n",
    "\t\t\tself.current_position = 0\n",
    "\t\treturn x, y\n",
    "\n",
    "class CausalSelfAttention(nn.Module):\n",
    "\n",
    "\tdef __init__(self, config):\n",
    "\t\tsuper().__init__()\n",
    "\t\tassert config.n_embd % config.n_head == 0\n",
    "\n",
    "\t\tself.c_attn = nn.Linear(config.n_embd, 3 * config.n_embd) # key, query, value projections for all heads but in a batch. Saves you from three separate instantiations of nn.Linear\n",
    "\t\tself.c_proj = nn.Linear(config.n_embd, config.n_embd) # output projection\n",
    "\t\tself.c_proj.NANOGPT_SCALE_INIT = 1 # set flag so we know on initialization we need to scale down the std for these residual streams\n",
    "\n",
    "\t\tself.n_head = config.n_head\n",
    "\t\tself.n_embd = config.n_embd\n",
    "\n",
    "\t\tself.register_buffer(\"bias\", torch.tril(torch.ones(config.block_size, config.block_size)).view(1, 1, config.block_size, config.block_size))\n",
    "\n",
    "\tdef forward(self, x, attention_mask=None):\n",
    "\t\n",
    "\t\tB, T, C = x.size() # batch size, sequence length, embedding dimension (n_embd)\n",
    "\t\n",
    "\t\t# Calculate query, key, value for all heads in batch, move head forward in the shape to be a batch dim alongside B\n",
    "\t\t# nh is \"number of heads\", hs is \"head size\", and C is number of channels (nh * hs)\n",
    "\t\t# e.g. in GPT-2 (124M), n_head=12, hs=64, so nh*hs = 768 channels in the Transformer\n",
    "\t\n",
    "\t\tqkv = self.c_attn(x)\n",
    "\t\tq, k, v = qkv.split(self.n_embd, dim=2)\n",
    "\t\tk = k.view(B, T, self.n_head, C // self.n_head).transpose(1, 2) # (B, nh, T, hs)\n",
    "\t\tq = q.view(B, T, self.n_head, C // self.n_head).transpose(1, 2) # (B, nh, T, hs)\n",
    "\t\tv = v.view(B, T, self.n_head, C // self.n_head).transpose(1, 2) # (B, nh, T, hs)\n",
    "\t\n",
    "\t\t# attention materializes the large (T, T) matrix for all queries and keys\n",
    "\t\tatt = q @ k.transpose(-2, -1) * (1.0 / math.sqrt(k.size(-1))) # --> (B, nh, T, T)\n",
    "\t\n",
    "\t\t# apply causal mask\n",
    "\t\tatt = att.masked_fill(self.bias[:, :, :T, :T] == 0, float('-inf'))\n",
    "\t\n",
    "\t\t# apply padding mask if needed\n",
    "\t\tif attention_mask is not None:\n",
    "\t\t\tattention_mask = attention_mask[:, None, None, :] # (B, T) --> (B, 1, 1, T)\n",
    "\t\t\tatt = att.masked_fill(attention_mask == 0, float('-inf'))\n",
    "\t\t\n",
    "\t\tatt = F.softmax(att, dim=-1)\n",
    "\t\n",
    "\t\ty = att @ v # (B, nh, T, T) x (B, nh, T, hs) --> (B, nh, T, hs)\n",
    "\t\ty = y.transpose(1, 2).contiguous().view(B, T, C) # re-assemble all head outputs side by side\n",
    "\t\n",
    "\t\t# output project\n",
    "\t\ty = self.c_proj(y)\n",
    "\t\treturn y\n",
    "\n",
    "\n",
    "class MLP(nn.Module):\n",
    "\n",
    "\tdef __init__(self, config):\n",
    "\t\tsuper().__init__()\n",
    "\t\tself.c_fc = nn.Linear(config.n_embd, 4 * config.n_embd) # On naming (eg 'c_fc'), we are replicating the GPT2 model\n",
    "\t\tself.gelu = nn.GELU(approximate='tanh')\n",
    "\t\tself.c_proj = nn.Linear(4 * config.n_embd, config.n_embd)\n",
    "\t\tself.c_proj.NANOGPT_SCALE_INIT = 1 # set flag so we know on initialization we need to scale down the std for these residual streams\n",
    "\n",
    "\tdef forward(self, x):\n",
    "\t\tx = self.c_fc(x)\n",
    "\t\tx = self.gelu(x)\n",
    "\t\tx = self.c_proj(x)\n",
    "\t\treturn x\n",
    "\n",
    "\n",
    "class Block(nn.Module):\n",
    "\n",
    "\tdef __init__(self, config):\n",
    "\t\tsuper().__init__()\n",
    "\t\tself.ln_1 = nn.LayerNorm(config.n_embd)\n",
    "\t\tself.attn = CausalSelfAttention(config)\n",
    "\t\tself.ln_2 = nn.LayerNorm(config.n_embd)\n",
    "\t\tself.mlp = MLP(config)\t\t\n",
    "\n",
    "\tdef forward(self, x, attention_mask=None):\n",
    "\t\tx = x + self.attn(self.ln_1(x), attention_mask=attention_mask)\n",
    "\t\tx = x + self.mlp(self.ln_2(x)) \n",
    "\t\treturn x\n",
    "\n",
    "\n",
    "\n",
    "@dataclass\n",
    "class GPTConfig:\n",
    "\tblock_size: int = 1024 # max sequence length\n",
    "\tvocab_size: int = 50257 # number of tokens: 50,000 BPE merges + 256 bytes tokens + 1 <|endoftext|> token\n",
    "\tn_layer: int = 12 # number of layers\n",
    "\tn_head: int = 12 # number of heads\n",
    "\tn_embd: int = 768 # embedding dimension\n",
    "\n",
    "class GPT(nn.Module):\n",
    "\t\n",
    "\tdef __init__(self, config):\n",
    "\t\tsuper().__init__()\n",
    "\t\tself.config = config\n",
    "\n",
    "\t\tself.transformer = nn.ModuleDict(dict(\n",
    "\t\t\twte = nn.Embedding(config.vocab_size, config.n_embd),\n",
    "\t\t\twpe = nn.Embedding(config.block_size, config.n_embd),\n",
    "\t\t\th = nn.ModuleList([Block(config) for _ in range(config.n_layer)]),\n",
    "\t\t\tln_f = nn.LayerNorm(config.n_embd)\n",
    "\t\t))\n",
    "\t\tself.lm_head = nn.Linear(config.n_embd, config.vocab_size, bias=False)\n",
    "\n",
    "\t\t# weight sharing scheme\n",
    "\t\tself.transformer.wte.weight = self.lm_head.weight\n",
    "\n",
    "\t\tself.apply(self._init_weights)\n",
    "\n",
    "\tdef _init_weights(self, module):\n",
    "\t\tif isinstance(module, nn.Linear):\n",
    "\t\t\tstd = 0.02\n",
    "\t\t\tif hasattr(module, 'NANOGPT_SCALE_INIT'):\n",
    "\t\t\t\tstd *= (2 * self.config.n_layer) ** -0.5 # Scale down the residual streams so std doesn't bloat as the streams add. Note we multiply by 2 bc it happens twice in each Block (one residual in attention, one in MLP)\n",
    "\t\t\ttorch.nn.init.normal_(module.weight, mean=0.0, std=std)\n",
    "\t\t\tif module.bias is not None:\n",
    "\t\t\t\ttorch.nn.init.zeros_(module.bias)\n",
    "\t\telif isinstance(module, nn.Embedding):\n",
    "\t\t\ttorch.nn.init.normal_(module.weight, mean=0.0, std=0.02)\n",
    "\n",
    "\tdef resize_token_embeddings_and_tie_weights(self, new_vocab_size):\n",
    "\t\n",
    "\t\told_weight = self.transformer.wte.weight.data\n",
    "\t\told_vocab_size, n_embd = old_weight.shape # Get current size\n",
    "\n",
    "\t\tassert new_vocab_size > old_vocab_size, f\"New vocab size is not larger than current vocab size\"\n",
    "\t\t\n",
    "\t\t# Create new embedding layer and copy weights\n",
    "\t\tself.transformer.wte = nn.Embedding(new_vocab_size, n_embd)\n",
    "\t\tself.transformer.wte.weight.data[:old_vocab_size] = old_weight\n",
    "\t\t# nn.init.normal_(self.transformer.wte.weight.data[old_vocab_size:], mean=0.0, std=0.02)\n",
    "\t\t\n",
    "\t\t# Comment this out to illustrate bad initialization\n",
    "\t\twith torch.no_grad():\n",
    "\t\t\taverage = self.transformer.wte.weight[:old_vocab_size].mean(dim=0) # Average of all embeddings across rows (vocab_size, n_embd) --> (n_embd)\n",
    "\t\t\tself.transformer.wte.weight.data[old_vocab_size:] = average\n",
    "\t\t\n",
    "\t\t# Create new lm_head layer\n",
    "\t\tself.lm_head = nn.Linear(n_embd, new_vocab_size, bias=False)\n",
    "\t\t\n",
    "\t\t# Tie weights\n",
    "\t\tself.lm_head.weight = self.transformer.wte.weight\n",
    "\n",
    "\t\tprint(f\"Model resized {model.transformer.wte} and {model.lm_head} layers to {new_vocab_size}\")\n",
    "\n",
    "\tdef forward(self, idx, targets=None, attention_mask=None):\n",
    "\t\t# idx is shape (B, T)\n",
    "\t\tB, T = idx.size()\n",
    "\t\tassert T <= self.config.block_size, f\"Cannot forward sequence of length {T}. Block size is only {self.config.block_size}\"\n",
    "\t\t\n",
    "\t\t# forward the token and position embeddings\n",
    "\t\tpos = torch.arange(0, T, dtype=torch.long, device=idx.device) # shape (T)\n",
    "\t\tpos_emb = self.transformer.wpe(pos) # shape (T, n_embd)\n",
    "\t\ttok_emb = self.transformer.wte(idx) # shape (B, T, n_embd)\n",
    "\t\tx = tok_emb + pos_emb\n",
    "\t\t\n",
    "\t\t# forward through the blocks of the transformer\n",
    "\t\tfor block in self.transformer.h:\n",
    "\t\t\tx = block(x, attention_mask=attention_mask)\n",
    "\t\t\n",
    "\t\t# forward the final layernorm and the classifier\n",
    "\t\tx = self.transformer.ln_f(x)\n",
    "\t\tlogits = self.lm_head(x) # (B, T, vocab_size)\n",
    "\n",
    "\t\tloss = None\n",
    "\t\tif targets is not None:\n",
    "\t\t\tloss = F.cross_entropy(logits.view(-1, logits.size(-1)), targets.view(-1))\n",
    "\t\treturn logits, loss\n",
    "\n",
    "\n",
    "\t@classmethod\n",
    "\tdef from_pretrained(cls, model_type):\n",
    "\t\t\"\"\"Loads pretrained GPT-2 model weights from huggingface\"\"\"\n",
    "\t\tassert model_type in {'gpt2', 'gpt2-medium', 'gpt2-large', 'gpt2-xl'}\n",
    "\t\tfrom transformers import GPT2LMHeadModel\n",
    "\t\tprint(\"loading weights from pretrained gpt: %s\" % model_type)\n",
    "\n",
    "\t\t# n_layer, n_head and n_embd are determined from model_type\n",
    "\t\tconfig_args = {\n",
    "\t\t\t'gpt2':\t\t\tdict(n_layer=12, n_head=12, n_embd=768), \t# 124M params\n",
    "\t\t\t'gpt2-medium':\tdict(n_layer=24, n_head=16, n_embd=1024), \t# 350M params\n",
    "\t\t\t'gpt2-large':\tdict(n_layer=36, n_head=20, n_embd=1280), \t# 774M param\n",
    "\t\t\t'gpt2-xl':\t\tdict(n_layer=48, n_head=25, n_embd=1600), \t# 1558M params\n",
    "\t\t}[model_type]\n",
    "\t\tconfig_args['vocab_size'] = 50257 # always 50257 for GPT model checkpoints\n",
    "\t\tconfig_args['block_size'] = 1024  # always 1024 for GPT model checkpoints\n",
    "\n",
    "\t\t# create a from-scratch initialized minGPT model\n",
    "\t\tconfig = GPTConfig(**config_args)\n",
    "\t\tmodel = GPT(config)\n",
    "\t\tsd = model.state_dict()\n",
    "\t\tsd_keys = sd.keys()\n",
    "\t\tsd_keys = [k for k in sd_keys if not k.endswith('.attn.bias')] # dicard the mask / buffer\n",
    "\n",
    "\t\t# init a huggingface/transformers model\n",
    "\t\tmodel_hf = GPT2LMHeadModel.from_pretrained(model_type)\n",
    "\t\tsd_hf = model_hf.state_dict()\n",
    "\n",
    "\t\t# copy while ensuring all of the parameters are aligned and match in names and shapes\n",
    "\t\tsd_keys_hf = sd_hf.keys()\n",
    "\t\tsd_keys_hf = [k for k in sd_keys_hf if not k.endswith('.attn.masked_bias')] # dicard the mask / buffer\n",
    "\t\tsd_keys_hf = [k for k in sd_keys_hf if not k.endswith('.attn.bias')] # dicard the mask / buffer\n",
    "\t\ttransposed = ['attn.c_attn.weight', 'attn.c_proj.weight', 'mlp.c_fc.weight', 'mlp.c_proj.weight']\n",
    "\t\t# basically the openai checkppoints use a \"Conv1D\" module, but we only want to use a vanilla Linear\n",
    "\t\t# this means we have to transpose these weights when we import them\n",
    "\t\tassert len(sd_keys_hf) == len(sd_keys), f\"mismatched keys: {len(sd_keys_hf)} != {len(sd_keys)}\"\n",
    "\t\tfor k in sd_keys_hf:\n",
    "\t\t\tif any(k.endswith(w) for w in transposed):\n",
    "\t\t\t\t# special treatment for the Conv1D weights we need to transpose\n",
    "\t\t\t\tassert sd_hf[k].shape[::-1] == sd[k].shape\n",
    "\t\t\t\twith torch.no_grad():\n",
    "\t\t\t\t\tsd[k].copy_(sd_hf[k].t())\n",
    "\t\t\telse:\n",
    "\t\t\t\tassert sd_hf[k].shape == sd[k].shape\n",
    "\t\t\t\twith torch.no_grad():\n",
    "\t\t\t\t\tsd[k].copy_(sd_hf[k])\n",
    "\n",
    "\t\treturn model\n",
    "\n",
    "\tdef generate(self, device, max_length=50, num_return_sequences=1, query=\"Best tacos?\", tokenizer=None):\n",
    "\n",
    "\t\tif tokenizer is None:\n",
    "\t\t\tfrom transformers import GPT2Tokenizer\n",
    "\t\t\ttokenizer = GPT2Tokenizer.from_pretrained(\"gpt2\")\n",
    "\t\t\n",
    "\t\ttokens = tokenizer.encode(query)\n",
    "\t\ttokens = torch.tensor(tokens, dtype=torch.long)\n",
    "\t\ttokens = tokens.unsqueeze(0)\n",
    "\t\ttokens = tokens.repeat(num_return_sequences,1)\n",
    "\t\tx = tokens\n",
    "\t\tx = x.to(device)\n",
    "\t\t\n",
    "\t\twhile x.size(1) < max_length:\n",
    "\t\t\twith torch.no_grad():\n",
    "\t\t\t\tlogits, loss = self(x)\n",
    "\t\t\t\tlogits = logits[:, -1, :]\n",
    "\t\t\t\tprobs = F.softmax(logits, dim=-1)\n",
    "\t\t\t\ttopk_probs, topk_indices = torch.topk(probs, 50, dim=-1)\n",
    "\t\t\t\tix = torch.multinomial(topk_probs, 1)\n",
    "\t\t\t\txcol = torch.gather(topk_indices, -1, ix)\n",
    "\t\t\t\tx = torch.cat((x, xcol), dim=1)\n",
    "\t\t\n",
    "\t\t\t\tfor i in range(num_return_sequences):\n",
    "\t\t\t\t\ttokens = x[i, :].tolist()\n",
    "\t\t\t\t\tdecoded = tokenizer.decode(tokens)\n",
    "\t\t\t\t\tprint(decoded)"
   ]
  },
  {
   "cell_type": "code",
   "execution_count": 5,
   "id": "34d8c81f-e84c-4de6-8393-84d9fd99ae7b",
   "metadata": {},
   "outputs": [],
   "source": [
    "import json\n",
    "import random\n",
    "from transformers import GPT2Tokenizer\n",
    "\n",
    "class QADataLoader:\n",
    "    def __init__(self, filepath, max_length=512, shuffle=True):\n",
    "        self.tokenizer = GPT2Tokenizer.from_pretrained(\"gpt2\")\n",
    "        self.max_length = max_length\n",
    "        self.shuffle = shuffle\n",
    "\n",
    "        self.tokenizer.add_special_tokens({\n",
    "            \"bos_token\": \"<BOS>\",\n",
    "            \"eos_token\": \"<EOS>\",\n",
    "            \"sep_token\": \"<SEP>\",\n",
    "            \"pad_token\": \"<PAD>\"\n",
    "        })\n",
    "\n",
    "        self.special_tokens = {\n",
    "            \"<BOS>\": self.tokenizer.encode(\"<BOS>\")[0],\n",
    "            \"<SEP>\": self.tokenizer.encode(\"<SEP>\")[0],\n",
    "            \"<EOS>\": self.tokenizer.encode(\"<EOS>\")[0],\n",
    "            \"<PAD>\": self.tokenizer.encode(\"<PAD>\")[0]\n",
    "        }\n",
    "\n",
    "        self.samples = []\n",
    "        with open(filepath, 'r') as f:\n",
    "            n = 0\n",
    "            for line in f:\n",
    "                item = json.loads(line.strip())\n",
    "                q, a = item[\"prompt\"], item[\"completion\"]\n",
    "                tokens = self.encode_sample(q, a)\n",
    "                if len(tokens[\"input_ids\"]) <= self.max_length:\n",
    "                    self.samples.append(tokens)\n",
    "                else:\n",
    "                    n += 1\n",
    "            print(f\"Dropped {n} lines from dataset due to max length being {max_length}\")\n",
    "\n",
    "        n = int(len(self.samples) * 0.9)\n",
    "\n",
    "        self.train_data = self.samples[:n]\n",
    "        self.val_data = self.samples[n:]\n",
    "        \n",
    "    def encode_sample(self, question, answer):\n",
    "        q_tokens = self.tokenizer.encode(question)\n",
    "        a_tokens = self.tokenizer.encode(answer)\n",
    "\n",
    "        input_ids = (\n",
    "            [self.special_tokens[\"<BOS>\"]] + \n",
    "            q_tokens + \n",
    "            [self.special_tokens[\"<SEP>\"]] +\n",
    "            a_tokens +\n",
    "            [self.special_tokens[\"<EOS>\"]]\n",
    "        )\n",
    "\n",
    "        label_ids = input_ids[1:] + [-100] # Shift labels rightward by one to line up the labels\n",
    "        ignore_length = len(q_tokens) + 1 # To account for q_token length and the <SEP> special token. Note the shift to the right above accounted for <BOS>\n",
    "        label_ids[:ignore_length] = [-100] * ignore_length\n",
    "\n",
    "        return {\"input_ids\": input_ids, \"label_ids\": label_ids}     \n",
    "\n",
    "\n",
    "    def __len__(self):\n",
    "        return len(self.samples)\n",
    "\n",
    "    def get_tokenizer(self):\n",
    "        return self.tokenizer\n",
    "\n",
    "    def get_batch(self, batch_size, split):\n",
    "        \n",
    "        data = self.train_data if split == 'train' else self.val_data\n",
    "\n",
    "        if self.shuffle:\n",
    "            batch = random.sample(data, batch_size)\n",
    "        else:\n",
    "            batch = data[:batch_size]\n",
    "        \n",
    "        max_len = max(len(sample[\"input_ids\"]) for sample in batch)\n",
    "        input_ids_batch = []\n",
    "        label_ids_batch = []\n",
    "        attention_mask_batch = []\n",
    "\n",
    "        for sample in batch:\n",
    "            pad_len = max_len - len(sample[\"input_ids\"])\n",
    "            input_ids = sample[\"input_ids\"] + [self.special_tokens[\"<PAD>\"]] * pad_len\n",
    "            label_ids = sample[\"label_ids\"] + [-100] * pad_len\n",
    "            attention_mask = [1] * len(sample[\"input_ids\"]) + [0] * pad_len\n",
    "\n",
    "            input_ids_batch.append(input_ids)\n",
    "            label_ids_batch.append(label_ids)\n",
    "            attention_mask_batch.append(attention_mask)\n",
    "            \n",
    "        input_ids_batch = torch.tensor(input_ids_batch)\n",
    "        label_ids_batch = torch.tensor(label_ids_batch)\n",
    "        attention_mask_batch = torch.tensor(attention_mask_batch)\n",
    "\n",
    "        return input_ids_batch, label_ids_batch, attention_mask_batch"
   ]
  },
  {
   "cell_type": "code",
   "execution_count": null,
   "id": "5a3f4e76-67dd-4229-afa7-f920caeba360",
   "metadata": {
    "jupyter": {
     "source_hidden": true
    }
   },
   "outputs": [],
   "source": [
    "# SCRATCH - DELETE LATER. run it single time and watch results\n",
    "\n",
    "# model.generate(max_length=20, num_return_sequences=1, query=\"Should I take the job at Google?\")\n",
    "\n",
    "model = GPT(GPTConfig)\n",
    "tokenizer = GPT2Tokenizer.from_pretrained(\"gpt2\")\n",
    "\n",
    "# Confirm gibberish\n",
    "model.generate(max_length=15)\n",
    "\n",
    "# Load GPT2 weights\n",
    "model = model.from_pretrained('gpt2-medium')\n",
    "\n",
    "# Confirm coherency\n",
    "model.generate(max_length=15)\n",
    "\n",
    "print(\"Embedding for '!'\", model.transformer.wte.weight.data[50256])\n",
    "\n",
    "# Load dataset, update vocab with new special tokens\n",
    "dataloader = QADataLoader(\"qa_small_dataset.jsonl\", max_length=512)\n",
    "tokenizer = dataloader.get_tokenizer()\n",
    "new_length = len(tokenizer.get_vocab())\n",
    "print(\"Before resizing...\", model.transformer.wte.weight.shape)\n",
    "model.resize_token_embeddings_and_tie_weights(new_length)\n",
    "\n",
    "print(\"Embedding for '!'\", model.transformer.wte.weight.data[50256])\n",
    "print(\"Embedding for '!'\", model.transformer.wte.weight.data[50257:])\n",
    "\n",
    "model.generate(max_length=15, tokenizer=tokenizer)\n",
    "\n",
    "\n",
    "# from torch.optim import AdamW\n",
    "\n",
    "\n",
    "# optimizer = torch.optim.AdamW(model.parameters(), lr=3e-4)"
   ]
  },
  {
   "cell_type": "code",
   "execution_count": 17,
   "id": "e680bc12-cf33-4e97-83cf-722b09285896",
   "metadata": {},
   "outputs": [
    {
     "name": "stdout",
     "output_type": "stream",
     "text": [
      "loading weights from pretrained gpt: gpt2-medium\n"
     ]
    },
    {
     "name": "stderr",
     "output_type": "stream",
     "text": [
      "Token indices sequence length is longer than the specified maximum sequence length for this model (25603 > 1024). Running this sequence through the model will result in indexing errors\n"
     ]
    },
    {
     "name": "stdout",
     "output_type": "stream",
     "text": [
      "Model resized Embedding(50261, 1024) and Linear(in_features=1024, out_features=50261, bias=False) layers to 50261\n"
     ]
    }
   ],
   "source": [
    "model = GPT(GPTConfig())\n",
    "\n",
    "model = model.from_pretrained('gpt2-medium')\n",
    "\n",
    "dataloader = QADataLoader(\"qa_dataset.jsonl\", max_length=512)\n",
    "tokenizer = dataloader.get_tokenizer()\n",
    "new_length = len(tokenizer.get_vocab())\n",
    "# print(\"Before resizing...\", model.transformer.wte.weight.shape)\n",
    "model.resize_token_embeddings_and_tie_weights(new_length)"
   ]
  },
  {
   "cell_type": "code",
   "execution_count": null,
   "id": "ad8efbda-c439-44f4-a63f-80a58fb66221",
   "metadata": {},
   "outputs": [],
   "source": [
    "# PLOT THE SPECIAL TOKENS TO SEE HOW OFF IT IS\n",
    "\n",
    "model.lm_head.weight.data[-4:] = model.lm_head.weight.data[tokenizer.encode('.')[0]]"
   ]
  },
  {
   "cell_type": "code",
   "execution_count": 29,
   "id": "0d74a05d-8c59-48a8-8218-fd6e5012717c",
   "metadata": {},
   "outputs": [
    {
     "data": {
      "image/png": "[encoded data removed]",
      "text/plain": [
       "<Figure size 1000x600 with 1 Axes>"
      ]
     },
     "metadata": {},
     "output_type": "display_data"
    }
   ],
   "source": [
    "import matplotlib.pyplot as plt\n",
    "import numpy as np\n",
    "\n",
    "weights0 = model.lm_head.weight.data[0]\n",
    "weights1 = model.lm_head.weight.data[-1]\n",
    "\n",
    "plt.figure(figsize=(10,6))\n",
    "plt.plot(range(len(weights0)), weights0)\n",
    "plt.plot(range(len(weights1)), weights1)\n",
    "plt.show()\n",
    "\n",
    "# model.lm_head.weight[-1].norm()"
   ]
  },
  {
   "cell_type": "code",
   "execution_count": null,
   "id": "62a84097-99fb-4a41-8d95-468af2de2481",
   "metadata": {},
   "outputs": [],
   "source": [
    "x = tokenizer.encode(\"Hello world\")\n",
    "x = torch.tensor(x)\n",
    "x = x.unsqueeze(0)\n",
    "\n",
    "logits, _ = model(x)\n",
    "\n",
    "gooz = logits[:, -1, :]\n",
    "gooz = gooz.squeeze(0).data\n",
    "gooz\n",
    "\n",
    "plt.figure(figsize=(10,6))\n",
    "plt.plot(range(len(gooz)), gooz)\n",
    "plt.show()"
   ]
  },
  {
   "cell_type": "code",
   "execution_count": null,
   "id": "c287fc37-8644-461c-acc9-ae180f8234e0",
   "metadata": {},
   "outputs": [],
   "source": [
    "probs = F.softmax(gooz, dim=-1)\n",
    "torch.topk(probs, 10, dim=-1)"
   ]
  },
  {
   "cell_type": "code",
   "execution_count": 30,
   "id": "f1caab5f-6b58-41d8-8b2a-15bedc24280f",
   "metadata": {},
   "outputs": [
    {
     "name": "stdout",
     "output_type": "stream",
     "text": [
      "Best tacos? What\n",
      "Best tacos? What's\n",
      "Best tacos? What's on\n",
      "Best tacos? What's on the\n",
      "Best tacos? What's on the menu\n",
      "Best tacos? What's on the menu?\n",
      "Best tacos? What's on the menu? What\n",
      "Best tacos? What's on the menu? What are\n",
      "Best tacos? What's on the menu? What are some\n",
      "Best tacos? What's on the menu? What are some common\n",
      "Best tacos? What's on the menu? What are some common drinks\n"
     ]
    }
   ],
   "source": [
    "model.generate(max_length=14, device='cpu', tokenizer=tokenizer)"
   ]
  },
  {
   "cell_type": "code",
   "execution_count": 7,
   "id": "546923c1-6563-4da9-84e7-90d58d1c0495",
   "metadata": {},
   "outputs": [
    {
     "name": "stdout",
     "output_type": "stream",
     "text": [
      "using device: mps\n"
     ]
    },
    {
     "ename": "KeyboardInterrupt",
     "evalue": "",
     "output_type": "error",
     "traceback": [
      "\u001b[0;31m---------------------------------------------------------------------------\u001b[0m",
      "\u001b[0;31mKeyboardInterrupt\u001b[0m                         Traceback (most recent call last)",
      "Cell \u001b[0;32mIn[7], line 33\u001b[0m\n\u001b[1;32m     31\u001b[0m loss\u001b[38;5;241m.\u001b[39mbackward()\n\u001b[1;32m     32\u001b[0m optimizer\u001b[38;5;241m.\u001b[39mstep()\n\u001b[0;32m---> 33\u001b[0m \u001b[38;5;28mprint\u001b[39m(\u001b[38;5;124mf\u001b[39m\u001b[38;5;124m\"\u001b[39m\u001b[38;5;124mstep \u001b[39m\u001b[38;5;132;01m{\u001b[39;00mi\u001b[38;5;132;01m}\u001b[39;00m\u001b[38;5;124m, loss: \u001b[39m\u001b[38;5;132;01m{\u001b[39;00mloss\u001b[38;5;241m.\u001b[39mitem()\u001b[38;5;132;01m}\u001b[39;00m\u001b[38;5;124m\"\u001b[39m)\n",
      "\u001b[0;31mKeyboardInterrupt\u001b[0m: "
     ]
    }
   ],
   "source": [
    "device = \"cpu\"\n",
    "if torch.cuda.is_available():\n",
    "\tdevice = \"cuda\"\n",
    "elif hasattr(torch.backends, \"mps\") and torch.backends.mps.is_available():\n",
    "\tdevice = \"mps\"\n",
    "print(f\"using device: {device}\")\n",
    "\n",
    "torch.manual_seed(1337)\n",
    "if torch.cuda.is_available():\n",
    "\ttorch.cuda.manual_seed(1337)\n",
    "\n",
    "# model = GPT(GPTConfig)\n",
    "\n",
    "# model = model.from_pretrained('gpt2-medium')\n",
    "\n",
    "# dataloader = QADataLoader(\"qa_dataset.jsonl\", max_length=512)\n",
    "# tokenizer = dataloader.get_tokenizer()\n",
    "# new_length = len(tokenizer.get_vocab())\n",
    "# print(\"Before resizing...\", model.transformer.wte.weight.shape)\n",
    "# model.resize_token_embeddings_and_tie_weights(new_length)\n",
    "\n",
    "model.to(device)\n",
    "\n",
    "optimizer = torch.optim.AdamW(model.parameters(), lr=3e-4)\n",
    "\n",
    "for i in range(5):\n",
    "    x, y, att_mask = dataloader.get_batch(4)\n",
    "    x, y, att_mask = x.to(device), y.to(device), att_mask.to(device)\n",
    "    optimizer.zero_grad()\n",
    "    logits, loss = model(x, y, att_mask)\n",
    "    loss.backward()\n",
    "    optimizer.step()\n",
    "    print(f\"step {i}, loss: {loss.item()}\")"
   ]
  },
  {
   "cell_type": "code",
   "execution_count": 32,
   "id": "0132d3c3-8633-4688-a801-5433ea45f3c8",
   "metadata": {},
   "outputs": [
    {
     "name": "stdout",
     "output_type": "stream",
     "text": [
      "tensor([50257,  1081,  3186,  1625,  1626,   511,  3176,  3151,   644,  3721,\n",
      "         2540,   284,  1393,   262,  2793,  1398,    30, 50259,    32,   395,\n",
      "        24965, 50258, 50260, 50260])\n",
      "tensor([ -100,  -100,  -100,  -100,  -100,  -100,  -100,  -100,  -100,  -100,\n",
      "         -100,  -100,  -100,  -100,  -100,  -100,  -100,    32,   395, 24965,\n",
      "        50258,  -100,  -100,  -100])\n"
     ]
    },
    {
     "data": {
      "text/plain": [
       "'<BOS> As products came within their financial reach what concept began to interest the lower class?<SEP>Aesthetics<EOS><PAD><PAD>'"
      ]
     },
     "execution_count": 32,
     "metadata": {},
     "output_type": "execute_result"
    }
   ],
   "source": [
    "x, y, att = dataloader.get_batch(4)\n",
    "print(x[0])\n",
    "print(y[0])\n",
    "dataloader.tokenizer.decode(x[0])\n",
    "# model.transformer.wte(x[0])"
   ]
  },
  {
   "cell_type": "code",
   "execution_count": null,
   "id": "fe9a4d07-32ba-4665-8e4c-34b292d81317",
   "metadata": {},
   "outputs": [],
   "source": [
    "# loss = F.cross_entropy(logits.view(-1, logits.size(-1)), targets.view(-1))\n",
    "x[0], y[0]\n",
    "\n",
    "logits, _ = model(x[0].unsqueeze(0))"
   ]
  },
  {
   "cell_type": "code",
   "execution_count": null,
   "id": "ebd74cd0-a1a8-453e-be18-0d7d198a828a",
   "metadata": {},
   "outputs": [],
   "source": [
    "logits.shape\n",
    "\n",
    "# inputs = logits.view(-1, logits.size(-1))\n",
    "# labels = y[0]\n",
    "# inputs.shape, labels.shape\n",
    "\n",
    "x = torch.tensor([[40, 1842, 11311, 13]])\n",
    "logits, _ = model(x)\n",
    "inputs = logits.view(-1, logits.size(-1))\n",
    "\n",
    "# labels = torch.tensor([40, 1842, 11311])\n",
    "labels = torch.tensor([1842, 11311, 13, -100])\n",
    "\n",
    "F.cross_entropy(inputs, labels)"
   ]
  },
  {
   "cell_type": "code",
   "execution_count": null,
   "id": "8fb01c11-1480-4fa9-8afd-4c3732436d89",
   "metadata": {},
   "outputs": [],
   "source": [
    "dataloader.tokenizer.encode(\"I love chocolate.\")"
   ]
  },
  {
   "cell_type": "code",
   "execution_count": 11,
   "id": "7b6631e7-cb01-4b9b-99a5-684303a2b5a1",
   "metadata": {},
   "outputs": [],
   "source": [
    "model = GPT(GPTConfig)"
   ]
  },
  {
   "cell_type": "code",
   "execution_count": 15,
   "id": "81042634-1e80-4b86-9d26-c67821a651b9",
   "metadata": {},
   "outputs": [
    {
     "data": {
      "text/plain": [
       "torch.Size([768])"
      ]
     },
     "execution_count": 15,
     "metadata": {},
     "output_type": "execute_result"
    }
   ],
   "source": [
    "model.transformer.wte.weight.data.mean(dim=0).shape"
   ]
  },
  {
   "cell_type": "code",
   "execution_count": 46,
   "id": "2034e18c-3caa-438a-8d2b-7a0880dd5f31",
   "metadata": {},
   "outputs": [
    {
     "data": {
      "text/plain": [
       "True"
      ]
     },
     "execution_count": 46,
     "metadata": {},
     "output_type": "execute_result"
    }
   ],
   "source": [
    "data = dataloader.samples\n",
    "n = int(len(data)*0.9)\n",
    "\n",
    "train_data = data[:n]\n",
    "val_data = data[n:]\n",
    "\n",
    "len(val_data) + len(train_data) == len(data)"
   ]
  },
  {
   "cell_type": "code",
   "execution_count": 108,
   "id": "040792d0-fa29-4eae-a96d-d9859601450d",
   "metadata": {},
   "outputs": [
    {
     "name": "stderr",
     "output_type": "stream",
     "text": [
      "Token indices sequence length is longer than the specified maximum sequence length for this model (25603 > 1024). Running this sequence through the model will result in indexing errors\n"
     ]
    }
   ],
   "source": [
    "dataloader = QADataLoader(\"qa_dataset.jsonl\", max_length=512)"
   ]
  },
  {
   "cell_type": "code",
   "execution_count": 145,
   "id": "5036ca0b-e4f8-4d67-ac48-71fca9bc35ca",
   "metadata": {},
   "outputs": [
    {
     "data": {
      "text/plain": [
       "'<BOS>When was Yale founded?<SEP>1701<EOS><PAD><PAD><PAD><PAD><PAD><PAD><PAD><PAD><PAD><PAD><PAD><PAD><PAD><PAD><PAD><PAD><PAD><PAD><PAD><PAD><PAD><PAD><PAD>'"
      ]
     },
     "execution_count": 145,
     "metadata": {},
     "output_type": "execute_result"
    }
   ],
   "source": [
    "x, y, mask = dataloader.get_batch(4, 'val')\n",
    "dataloader.tokenizer.decode(x[2])\n",
    "# len(dataloader.val_data)\n",
    "# x[1], y[1]"
   ]
  },
  {
   "cell_type": "code",
   "execution_count": null,
   "id": "d0b3ecd9-965c-4c8e-a554-26ded9af2b91",
   "metadata": {},
   "outputs": [],
   "source": [
    "# LAMBDA NOTEBOOK\n",
    "\n",
    "batch_size = 8\n",
    "max_length = 1024\n",
    "\n",
    "dataloader = QADataLoader(\"qa_dataset.jsonl\", max_length=max_length)\n",
    "\n",
    "model = GPT(GPTConfig())\n",
    "model = model.from_pretrained('gpt2-medium')\n",
    "\n",
    "tokenizer = dataloader.get_tokenizer()\n",
    "new_vocab_length = len(tokenizer.get_vocab())\n",
    "model.resize_token_embeddings_and_tie_weights(new_vocab_length)\n",
    "\n",
    "\n",
    "device = \"cpu\"\n",
    "if torch.cuda.is_available():\n",
    "\tdevice = \"cuda\"\n",
    "elif hasattr(torch.backends, \"mps\") and torch.backends.mps.is_available():\n",
    "\tdevice = \"mps\"\n",
    "print(f\"using device: {device}\")\n",
    "\n",
    "torch.manual_seed(1337)\n",
    "if torch.cuda.is_available():\n",
    "\ttorch.cuda.manual_seed(1337)\n",
    "\n",
    "model.to(device)\n",
    "\n",
    "epochs = 3\n",
    "learning_rate = 3e-6\n",
    "epsilon = 1e-8\n",
    "max_steps = len(dataloader.samples) // batch_size\n",
    "\n",
    "optimizer = torch.optim.AdamW(model.parameters(), lr=learning_rate)"
   ]
  },
  {
   "cell_type": "code",
   "execution_count": null,
   "id": "1111218e-09a9-4f54-9265-b3bb9fe64a41",
   "metadata": {},
   "outputs": [],
   "source": [
    "for epoch in range(epochs):\n",
    "    for step in range(max_steps):\n",
    "\n",
    "        # validation loss\n",
    "        if step % 100 == 0:\n",
    "            model.eval()\n",
    "            with torch.no_grad():\n",
    "                x, y, att_mask = dataloader.get_batch(4, 'val')\n",
    "                x, y, att_mask = x.to(device), y.to(device), att_mask.to(device)\n",
    "                logits, loss = model(x, y, att_mask)\n",
    "                print(f\"step {step}, validation loss: {loss.item()}\")\n",
    "\n",
    "        # generate sample\n",
    "        if step > 0 and step % 1000 == 0:\n",
    "            model.eval()\n",
    "            model.generate(max_length=20, device=device, tokenizer=tokenizer, query=\"When was Donald trump born?\")\n",
    "        \n",
    "        # train\n",
    "        model.train()\n",
    "        x, y, att_mask = dataloader.get_batch(4, 'train')\n",
    "        x, y, att_mask = x.to(device), y.to(device), att_mask.to(device)\n",
    "        optimizer.zero_grad()\n",
    "        logits, loss = model(x, y, att_mask)\n",
    "        loss.backward()\n",
    "        optimizer.step()\n",
    "        if step % 100 == 0:\n",
    "            print(f\"step {step}, training loss: {loss.item()}\")\n",
    "        "
   ]
  },
  {
   "cell_type": "code",
   "execution_count": 157,
   "id": "1e727521-9419-4e63-b6c3-85201321e688",
   "metadata": {},
   "outputs": [
    {
     "data": {
      "text/plain": [
       "[<matplotlib.lines.Line2D at 0x3141fdbe0>]"
      ]
     },
     "execution_count": 157,
     "metadata": {},
     "output_type": "execute_result"
    },
    {
     "data": {
      "image/png": "[encoded data removed]",
      "text/plain": [
       "<Figure size 640x480 with 1 Axes>"
      ]
     },
     "metadata": {},
     "output_type": "display_data"
    }
   ],
   "source": [
    "t1 = torch.randint(0,10, (20,))\n",
    "import numpy as np\n",
    "\n",
    "t2 = np.random.randint(0,100, 100)\n",
    "plt.plot(t2)"
   ]
  },
  {
   "cell_type": "code",
   "execution_count": 18,
   "id": "1a1aedef-c7ed-4087-976c-4bba3dcea8b4",
   "metadata": {},
   "outputs": [
    {
     "name": "stderr",
     "output_type": "stream",
     "text": [
      "Token indices sequence length is longer than the specified maximum sequence length for this model (1469 > 1024). Running this sequence through the model will result in indexing errors\n"
     ]
    },
    {
     "name": "stdout",
     "output_type": "stream",
     "text": [
      "Dropped 54 lines from dataset due to max length being 512\n"
     ]
    }
   ],
   "source": [
    "# -------------------------------------------------\n",
    "\n",
    "testloader = QADataLoader('datasets/alpaca_data.jsonl', max_length=512)"
   ]
  },
  {
   "cell_type": "code",
   "execution_count": 58,
   "id": "6c2ec9cc-9a81-4d16-a014-ff9a84e703f2",
   "metadata": {},
   "outputs": [],
   "source": [
    "x, y, att_mask = testloader.get_batch(2, 'val')"
   ]
  },
  {
   "cell_type": "code",
   "execution_count": 62,
   "id": "21b0fb6f-4e0b-4cb1-86da-c5eda3d58aa6",
   "metadata": {},
   "outputs": [
    {
     "data": {
      "text/plain": [
       "('<BOS>Identify the 3rd person pronoun in the sentence.\\n\\nHe jumped faster than anyone else.<SEP>He is the 3rd person pronoun in the sentence.<EOS><PAD><PAD><PAD><PAD><PAD><PAD><PAD><PAD><PAD><PAD><PAD><PAD><PAD><PAD><PAD><PAD><PAD><PAD><PAD><PAD><PAD><PAD><PAD><PAD><PAD><PAD><PAD><PAD><PAD><PAD><PAD><PAD><PAD><PAD><PAD><PAD><PAD><PAD><PAD><PAD><PAD><PAD><PAD><PAD><PAD><PAD><PAD><PAD><PAD><PAD><PAD><PAD><PAD><PAD><PAD><PAD><PAD><PAD><PAD><PAD><PAD><PAD><PAD><PAD><PAD><PAD><PAD><PAD><PAD><PAD><PAD><PAD><PAD><PAD><PAD><PAD><PAD><PAD><PAD><PAD><PAD><PAD><PAD><PAD><PAD><PAD><PAD><PAD><PAD><PAD><PAD><PAD><PAD><PAD><PAD><PAD><PAD><PAD><PAD><PAD><PAD><PAD><PAD><PAD><PAD><PAD><PAD><PAD><PAD><PAD><PAD><PAD><PAD><PAD><PAD><PAD><PAD><PAD><PAD><PAD><PAD><PAD>',\n",
       " tensor([[50257, 33234,  1958,   262,   513,  4372,  1048, 28636,   287,   262,\n",
       "           6827,    13,   198,   198,  1544, 11687,  5443,   621,  2687,  2073,\n",
       "             13, 50259,  1544,   318,   262,   513,  4372,  1048, 28636,   287,\n",
       "            262,  6827,    13, 50258, 50260, 50260, 50260, 50260, 50260, 50260,\n",
       "          50260, 50260, 50260, 50260, 50260, 50260, 50260, 50260, 50260, 50260,\n",
       "          50260, 50260, 50260, 50260, 50260, 50260, 50260, 50260, 50260, 50260,\n",
       "          50260, 50260, 50260, 50260, 50260, 50260, 50260, 50260, 50260, 50260,\n",
       "          50260, 50260, 50260, 50260, 50260, 50260, 50260, 50260, 50260, 50260,\n",
       "          50260, 50260, 50260, 50260, 50260, 50260, 50260, 50260, 50260, 50260,\n",
       "          50260, 50260, 50260, 50260, 50260, 50260, 50260, 50260, 50260, 50260,\n",
       "          50260, 50260, 50260, 50260, 50260, 50260, 50260, 50260, 50260, 50260,\n",
       "          50260, 50260, 50260, 50260, 50260, 50260, 50260, 50260, 50260, 50260,\n",
       "          50260, 50260, 50260, 50260, 50260, 50260, 50260, 50260, 50260, 50260,\n",
       "          50260, 50260, 50260, 50260, 50260, 50260, 50260, 50260, 50260, 50260,\n",
       "          50260, 50260, 50260, 50260, 50260, 50260, 50260, 50260, 50260, 50260,\n",
       "          50260, 50260, 50260, 50260, 50260, 50260],\n",
       "         [50257,  8645,   378,   281,  1672,   286,  7325,  3597,   546,   262,\n",
       "           1813,  7243,    13,   198,   198,   464,  8737,   286, 23608, 50259,\n",
       "            464,  4252,  8278,   287,   262, 23608,  6766,    11,   663, 24823,\n",
       "            257, 11800, 10912,   588,   262,  5667,   286,   262,  7150,   326,\n",
       "            550,  9258,   284,  1210,    13,   383, 10296, 28633,  5281,   262,\n",
       "           6029, 31242,   286, 29181,   290, 27952,    11, 30047,   502,   286,\n",
       "            477,   262,   812,  3377,  1642, 47199,   290,  3024, 11758,   329,\n",
       "            262,  4692, 23608, 12513,    13, 48201,   314,  3114,   262, 10747,\n",
       "            373,  5901,   351,   262, 21266,  7577,   286,  2266,    11, 10912,\n",
       "             11,   290,  7872,    11,   257, 15438,   326,  3931,   373,  2406,\n",
       "            284,   281,   886,    13,  6430,   340,  2727,   884,  8737,    11,\n",
       "            884,   384,   918,   414,   326,   616,  2612,   373, 47193,   290,\n",
       "            616,  4437,   373, 16434,    13,   632,   373,   257, 15438,   326,\n",
       "           1204,   373,   407,   655,   925,   510,   286,  7028,   286, 38168,\n",
       "            290,   922,  1525,   274,    11,   475,   286,  8737,    11,   772,\n",
       "            618,  7374,   373,  2406,    13, 50258]]),\n",
       " tensor([[ -100,  -100,  -100,  -100,  -100,  -100,  -100,  -100,  -100,  -100,\n",
       "           -100,  -100,  -100,  -100,  -100,  -100,  -100,  -100,  -100,  -100,\n",
       "           -100,  1544,   318,   262,   513,  4372,  1048, 28636,   287,   262,\n",
       "           6827,    13, 50258,  -100,  -100,  -100,  -100,  -100,  -100,  -100,\n",
       "           -100,  -100,  -100,  -100,  -100,  -100,  -100,  -100,  -100,  -100,\n",
       "           -100,  -100,  -100,  -100,  -100,  -100,  -100,  -100,  -100,  -100,\n",
       "           -100,  -100,  -100,  -100,  -100,  -100,  -100,  -100,  -100,  -100,\n",
       "           -100,  -100,  -100,  -100,  -100,  -100,  -100,  -100,  -100,  -100,\n",
       "           -100,  -100,  -100,  -100,  -100,  -100,  -100,  -100,  -100,  -100,\n",
       "           -100,  -100,  -100,  -100,  -100,  -100,  -100,  -100,  -100,  -100,\n",
       "           -100,  -100,  -100,  -100,  -100,  -100,  -100,  -100,  -100,  -100,\n",
       "           -100,  -100,  -100,  -100,  -100,  -100,  -100,  -100,  -100,  -100,\n",
       "           -100,  -100,  -100,  -100,  -100,  -100,  -100,  -100,  -100,  -100,\n",
       "           -100,  -100,  -100,  -100,  -100,  -100,  -100,  -100,  -100,  -100,\n",
       "           -100,  -100,  -100,  -100,  -100,  -100,  -100,  -100,  -100,  -100,\n",
       "           -100,  -100,  -100,  -100,  -100,  -100],\n",
       "         [ -100,  -100,  -100,  -100,  -100,  -100,  -100,  -100,  -100,  -100,\n",
       "           -100,  -100,  -100,  -100,  -100,  -100,  -100,  -100,  -100,   464,\n",
       "           4252,  8278,   287,   262, 23608,  6766,    11,   663, 24823,   257,\n",
       "          11800, 10912,   588,   262,  5667,   286,   262,  7150,   326,   550,\n",
       "           9258,   284,  1210,    13,   383, 10296, 28633,  5281,   262,  6029,\n",
       "          31242,   286, 29181,   290, 27952,    11, 30047,   502,   286,   477,\n",
       "            262,   812,  3377,  1642, 47199,   290,  3024, 11758,   329,   262,\n",
       "           4692, 23608, 12513,    13, 48201,   314,  3114,   262, 10747,   373,\n",
       "           5901,   351,   262, 21266,  7577,   286,  2266,    11, 10912,    11,\n",
       "            290,  7872,    11,   257, 15438,   326,  3931,   373,  2406,   284,\n",
       "            281,   886,    13,  6430,   340,  2727,   884,  8737,    11,   884,\n",
       "            384,   918,   414,   326,   616,  2612,   373, 47193,   290,   616,\n",
       "           4437,   373, 16434,    13,   632,   373,   257, 15438,   326,  1204,\n",
       "            373,   407,   655,   925,   510,   286,  7028,   286, 38168,   290,\n",
       "            922,  1525,   274,    11,   475,   286,  8737,    11,   772,   618,\n",
       "           7374,   373,  2406,    13, 50258,  -100]]),\n",
       " tensor([[1, 1, 1, 1, 1, 1, 1, 1, 1, 1, 1, 1, 1, 1, 1, 1, 1, 1, 1, 1, 1, 1, 1, 1,\n",
       "          1, 1, 1, 1, 1, 1, 1, 1, 1, 1, 0, 0, 0, 0, 0, 0, 0, 0, 0, 0, 0, 0, 0, 0,\n",
       "          0, 0, 0, 0, 0, 0, 0, 0, 0, 0, 0, 0, 0, 0, 0, 0, 0, 0, 0, 0, 0, 0, 0, 0,\n",
       "          0, 0, 0, 0, 0, 0, 0, 0, 0, 0, 0, 0, 0, 0, 0, 0, 0, 0, 0, 0, 0, 0, 0, 0,\n",
       "          0, 0, 0, 0, 0, 0, 0, 0, 0, 0, 0, 0, 0, 0, 0, 0, 0, 0, 0, 0, 0, 0, 0, 0,\n",
       "          0, 0, 0, 0, 0, 0, 0, 0, 0, 0, 0, 0, 0, 0, 0, 0, 0, 0, 0, 0, 0, 0, 0, 0,\n",
       "          0, 0, 0, 0, 0, 0, 0, 0, 0, 0, 0, 0],\n",
       "         [1, 1, 1, 1, 1, 1, 1, 1, 1, 1, 1, 1, 1, 1, 1, 1, 1, 1, 1, 1, 1, 1, 1, 1,\n",
       "          1, 1, 1, 1, 1, 1, 1, 1, 1, 1, 1, 1, 1, 1, 1, 1, 1, 1, 1, 1, 1, 1, 1, 1,\n",
       "          1, 1, 1, 1, 1, 1, 1, 1, 1, 1, 1, 1, 1, 1, 1, 1, 1, 1, 1, 1, 1, 1, 1, 1,\n",
       "          1, 1, 1, 1, 1, 1, 1, 1, 1, 1, 1, 1, 1, 1, 1, 1, 1, 1, 1, 1, 1, 1, 1, 1,\n",
       "          1, 1, 1, 1, 1, 1, 1, 1, 1, 1, 1, 1, 1, 1, 1, 1, 1, 1, 1, 1, 1, 1, 1, 1,\n",
       "          1, 1, 1, 1, 1, 1, 1, 1, 1, 1, 1, 1, 1, 1, 1, 1, 1, 1, 1, 1, 1, 1, 1, 1,\n",
       "          1, 1, 1, 1, 1, 1, 1, 1, 1, 1, 1, 1]]))"
      ]
     },
     "execution_count": 62,
     "metadata": {},
     "output_type": "execute_result"
    }
   ],
   "source": [
    "testloader.tokenizer.decode(x[0]), x, y, att_mask"
   ]
  },
  {
   "cell_type": "code",
   "execution_count": 19,
   "id": "a638a35b-69e9-4edd-b9d8-16190cf31805",
   "metadata": {},
   "outputs": [
    {
     "name": "stdout",
     "output_type": "stream",
     "text": [
      "loading weights from pretrained gpt: gpt2-medium\n",
      "Model resized Embedding(50261, 1024) and Linear(in_features=1024, out_features=50261, bias=False) layers to 50261\n"
     ]
    }
   ],
   "source": [
    "model = GPT(GPTConfig())\n",
    "\n",
    "model = model.from_pretrained('gpt2-medium')\n",
    "new_length = len(testloader.get_tokenizer().get_vocab())\n",
    "model.resize_token_embeddings_and_tie_weights(new_length)"
   ]
  },
  {
   "cell_type": "code",
   "execution_count": null,
   "id": "cc6b2ab0-8b00-4583-9ab3-832b41fcb416",
   "metadata": {},
   "outputs": [],
   "source": [
    "query = 'Curate a new playlist based on the following criteria\\n\\nCreate a playlist with 8 romantic songs from different decades'\n",
    "model.generate(device='cpu', tokenizer=testloader.tokenizer, query=query)"
   ]
  },
  {
   "cell_type": "code",
   "execution_count": 40,
   "id": "491e1639-0a9d-4130-a4c5-ae26cf062825",
   "metadata": {},
   "outputs": [],
   "source": [
    "gooz = torch.randint(0,10,(4,))\n",
    "torch.save(gooz, 'gooz.ph')"
   ]
  },
  {
   "cell_type": "code",
   "execution_count": null,
   "id": "a7868339-65de-41f9-bebc-955109a90bba",
   "metadata": {},
   "outputs": [],
   "source": [
    "gooz2 = torch.load('gooz.ph')"
   ]
  },
  {
   "cell_type": "code",
   "execution_count": 47,
   "id": "566bd99b-0e00-4a98-8aa4-6cc7268260c2",
   "metadata": {},
   "outputs": [],
   "source": [
    "gooz = {\n",
    "    'checkpoint': model.state_dict(),\n",
    "    'loss': [5,4,3,2,1]\n",
    "}\n",
    "torch.save(gooz, 'gooz.ph')"
   ]
  },
  {
   "cell_type": "code",
   "execution_count": 52,
   "id": "01d7a7cf-caf2-4f53-a33b-ca3ba2908b9b",
   "metadata": {},
   "outputs": [
    {
     "data": {
      "text/plain": [
       "torch.float32"
      ]
     },
     "execution_count": 52,
     "metadata": {},
     "output_type": "execute_result"
    }
   ],
   "source": [
    "# sum(p.numel() for p in model.parameters())\n",
    "model.transformer.wte.weight.data.dtype"
   ]
  },
  {
   "cell_type": "code",
   "execution_count": 89,
   "id": "0a034791-706f-4e76-be3f-fb3870d4014a",
   "metadata": {},
   "outputs": [
    {
     "data": {
      "text/plain": [
       "{'test': [1]}"
      ]
     },
     "execution_count": 89,
     "metadata": {},
     "output_type": "execute_result"
    }
   ],
   "source": [
    "loss = {}\n",
    "loss['test'] = []\n",
    "loss['test'].append(1)\n",
    "loss"
   ]
  },
  {
   "cell_type": "code",
   "execution_count": 123,
   "id": "22eeaadd-1ae2-4cb4-832e-48d37f33058f",
   "metadata": {},
   "outputs": [
    {
     "name": "stderr",
     "output_type": "stream",
     "text": [
      "/var/folders/p6/m5m36d3j0zzdjgdwm6thvb6h0000gp/T/ipykernel_1321/3884758654.py:1: FutureWarning: You are using `torch.load` with `weights_only=False` (the current default value), which uses the default pickle module implicitly. It is possible to construct malicious pickle data which will execute arbitrary code during unpickling (See https://github.com/pytorch/pytorch/blob/main/SECURITY.md#untrusted-models for more details). In a future release, the default value for `weights_only` will be flipped to `True`. This limits the functions that could be executed during unpickling. Arbitrary objects will no longer be allowed to be loaded via this mode unless they are explicitly allowlisted by the user via `torch.serialization.add_safe_globals`. We recommend you start setting `weights_only=True` for any use case where you don't have full control of the loaded file. Please open an issue on GitHub for any issues related to this experimental feature.\n",
      "  gooz3 = torch.load('model/final.pt', map_location=torch.device('cpu'))\n"
     ]
    }
   ],
   "source": [
    "gooz3 = torch.load('model/final.pt', map_location=torch.device('cpu'))"
   ]
  },
  {
   "cell_type": "code",
   "execution_count": 154,
   "id": "e6e4d7b9-6b51-485c-9acf-5f092157b6e1",
   "metadata": {},
   "outputs": [
    {
     "data": {
      "text/plain": [
       "[<matplotlib.lines.Line2D at 0x4bf912480>]"
      ]
     },
     "execution_count": 154,
     "metadata": {},
     "output_type": "execute_result"
    },
    {
     "data": {
      "image/png": "[encoded data removed]",
      "text/plain": [
       "<Figure size 640x480 with 1 Axes>"
      ]
     },
     "metadata": {},
     "output_type": "display_data"
    }
   ],
   "source": [
    "gooz3['loss']['val']\n",
    "\n",
    "# import matplotlib.pyplot as plt\n",
    "\n",
    "plt.plot(gooz3['loss']['training'])\n",
    "\n",
    "# plt.plot(gooz3['loss']['val'])"
   ]
  },
  {
   "cell_type": "code",
   "execution_count": 125,
   "id": "cb629ed3-6777-4cbc-a664-cc8b95869d58",
   "metadata": {},
   "outputs": [
    {
     "data": {
      "text/plain": [
       "<All keys matched successfully>"
      ]
     },
     "execution_count": 125,
     "metadata": {},
     "output_type": "execute_result"
    }
   ],
   "source": [
    "model.load_state_dict(gooz3['model_state_dict'])"
   ]
  },
  {
   "cell_type": "code",
   "execution_count": 139,
   "id": "70c6caf7-c50a-4da9-a67f-31c59ad4a3a1",
   "metadata": {},
   "outputs": [
    {
     "name": "stdout",
     "output_type": "stream",
     "text": [
      "List 5 psychological development milestones for toddlers aged 1-2 years.\n",
      "\n",
      "List 5 psychological development milestones for toddlers aged 1-2 years.\n",
      " \n",
      "List 5 psychological development milestones for toddlers aged 1-2 years.\n",
      " \n",
      "\n",
      "List 5 psychological development milestones for toddlers aged 1-2 years.\n",
      " \n",
      "-\n",
      "List 5 psychological development milestones for toddlers aged 1-2 years.\n",
      " \n",
      "- Em\n",
      "List 5 psychological development milestones for toddlers aged 1-2 years.\n",
      " \n",
      "- Emotional\n",
      "List 5 psychological development milestones for toddlers aged 1-2 years.\n",
      " \n",
      "- Emotional learning\n",
      "List 5 psychological development milestones for toddlers aged 1-2 years.\n",
      " \n",
      "- Emotional learning and\n",
      "List 5 psychological development milestones for toddlers aged 1-2 years.\n",
      " \n",
      "- Emotional learning and problem\n",
      "List 5 psychological development milestones for toddlers aged 1-2 years.\n",
      " \n",
      "- Emotional learning and problem solving\n",
      "List 5 psychological development milestones for toddlers aged 1-2 years.\n",
      " \n",
      "- Emotional learning and problem solving\n",
      "\n",
      "List 5 psychological development milestones for toddlers aged 1-2 years.\n",
      " \n",
      "- Emotional learning and problem solving\n",
      "-\n",
      "List 5 psychological development milestones for toddlers aged 1-2 years.\n",
      " \n",
      "- Emotional learning and problem solving\n",
      "- Recogn\n",
      "List 5 psychological development milestones for toddlers aged 1-2 years.\n",
      " \n",
      "- Emotional learning and problem solving\n",
      "- Recognition\n",
      "List 5 psychological development milestones for toddlers aged 1-2 years.\n",
      " \n",
      "- Emotional learning and problem solving\n",
      "- Recognition and\n",
      "List 5 psychological development milestones for toddlers aged 1-2 years.\n",
      " \n",
      "- Emotional learning and problem solving\n",
      "- Recognition and decision\n",
      "List 5 psychological development milestones for toddlers aged 1-2 years.\n",
      " \n",
      "- Emotional learning and problem solving\n",
      "- Recognition and decision-\n",
      "List 5 psychological development milestones for toddlers aged 1-2 years.\n",
      " \n",
      "- Emotional learning and problem solving\n",
      "- Recognition and decision-making\n",
      "List 5 psychological development milestones for toddlers aged 1-2 years.\n",
      " \n",
      "- Emotional learning and problem solving\n",
      "- Recognition and decision-making abilities\n",
      "List 5 psychological development milestones for toddlers aged 1-2 years.\n",
      " \n",
      "- Emotional learning and problem solving\n",
      "- Recognition and decision-making abilities\n",
      "\n",
      "List 5 psychological development milestones for toddlers aged 1-2 years.\n",
      " \n",
      "- Emotional learning and problem solving\n",
      "- Recognition and decision-making abilities\n",
      "-\n",
      "List 5 psychological development milestones for toddlers aged 1-2 years.\n",
      " \n",
      "- Emotional learning and problem solving\n",
      "- Recognition and decision-making abilities\n",
      "- Em\n",
      "List 5 psychological development milestones for toddlers aged 1-2 years.\n",
      " \n",
      "- Emotional learning and problem solving\n",
      "- Recognition and decision-making abilities\n",
      "- Emotional\n",
      "List 5 psychological development milestones for toddlers aged 1-2 years.\n",
      " \n",
      "- Emotional learning and problem solving\n",
      "- Recognition and decision-making abilities\n",
      "- Emotional expression\n",
      "List 5 psychological development milestones for toddlers aged 1-2 years.\n",
      " \n",
      "- Emotional learning and problem solving\n",
      "- Recognition and decision-making abilities\n",
      "- Emotional expression and\n",
      "List 5 psychological development milestones for toddlers aged 1-2 years.\n",
      " \n",
      "- Emotional learning and problem solving\n",
      "- Recognition and decision-making abilities\n",
      "- Emotional expression and play\n",
      "List 5 psychological development milestones for toddlers aged 1-2 years.\n",
      " \n",
      "- Emotional learning and problem solving\n",
      "- Recognition and decision-making abilities\n",
      "- Emotional expression and play\n",
      "\n",
      "List 5 psychological development milestones for toddlers aged 1-2 years.\n",
      " \n",
      "- Emotional learning and problem solving\n",
      "- Recognition and decision-making abilities\n",
      "- Emotional expression and play\n",
      "-\n",
      "List 5 psychological development milestones for toddlers aged 1-2 years.\n",
      " \n",
      "- Emotional learning and problem solving\n",
      "- Recognition and decision-making abilities\n",
      "- Emotional expression and play\n",
      "- Attention\n",
      "List 5 psychological development milestones for toddlers aged 1-2 years.\n",
      " \n",
      "- Emotional learning and problem solving\n",
      "- Recognition and decision-making abilities\n",
      "- Emotional expression and play\n",
      "- Attention spans\n",
      "List 5 psychological development milestones for toddlers aged 1-2 years.\n",
      " \n",
      "- Emotional learning and problem solving\n",
      "- Recognition and decision-making abilities\n",
      "- Emotional expression and play\n",
      "- Attention spans and\n",
      "List 5 psychological development milestones for toddlers aged 1-2 years.\n",
      " \n",
      "- Emotional learning and problem solving\n",
      "- Recognition and decision-making abilities\n",
      "- Emotional expression and play\n",
      "- Attention spans and vocabulary\n",
      "List 5 psychological development milestones for toddlers aged 1-2 years.\n",
      " \n",
      "- Emotional learning and problem solving\n",
      "- Recognition and decision-making abilities\n",
      "- Emotional expression and play\n",
      "- Attention spans and vocabulary\n",
      "\n",
      "List 5 psychological development milestones for toddlers aged 1-2 years.\n",
      " \n",
      "- Emotional learning and problem solving\n",
      "- Recognition and decision-making abilities\n",
      "- Emotional expression and play\n",
      "- Attention spans and vocabulary\n",
      "-\n",
      "List 5 psychological development milestones for toddlers aged 1-2 years.\n",
      " \n",
      "- Emotional learning and problem solving\n",
      "- Recognition and decision-making abilities\n",
      "- Emotional expression and play\n",
      "- Attention spans and vocabulary\n",
      "- Em\n",
      "List 5 psychological development milestones for toddlers aged 1-2 years.\n",
      " \n",
      "- Emotional learning and problem solving\n",
      "- Recognition and decision-making abilities\n",
      "- Emotional expression and play\n",
      "- Attention spans and vocabulary\n",
      "- Emotion\n",
      "List 5 psychological development milestones for toddlers aged 1-2 years.\n",
      " \n",
      "- Emotional learning and problem solving\n",
      "- Recognition and decision-making abilities\n",
      "- Emotional expression and play\n",
      "- Attention spans and vocabulary\n",
      "- Emotion regulation\n",
      "List 5 psychological development milestones for toddlers aged 1-2 years.\n",
      " \n",
      "- Emotional learning and problem solving\n",
      "- Recognition and decision-making abilities\n",
      "- Emotional expression and play\n",
      "- Attention spans and vocabulary\n",
      "- Emotion regulation\n",
      "\n",
      "List 5 psychological development milestones for toddlers aged 1-2 years.\n",
      " \n",
      "- Emotional learning and problem solving\n",
      "- Recognition and decision-making abilities\n",
      "- Emotional expression and play\n",
      "- Attention spans and vocabulary\n",
      "- Emotion regulation\n",
      "-\n",
      "List 5 psychological development milestones for toddlers aged 1-2 years.\n",
      " \n",
      "- Emotional learning and problem solving\n",
      "- Recognition and decision-making abilities\n",
      "- Emotional expression and play\n",
      "- Attention spans and vocabulary\n",
      "- Emotion regulation\n",
      "- Self\n",
      "List 5 psychological development milestones for toddlers aged 1-2 years.\n",
      " \n",
      "- Emotional learning and problem solving\n",
      "- Recognition and decision-making abilities\n",
      "- Emotional expression and play\n",
      "- Attention spans and vocabulary\n",
      "- Emotion regulation\n",
      "- Self-\n",
      "List 5 psychological development milestones for toddlers aged 1-2 years.\n",
      " \n",
      "- Emotional learning and problem solving\n",
      "- Recognition and decision-making abilities\n",
      "- Emotional expression and play\n",
      "- Attention spans and vocabulary\n",
      "- Emotion regulation\n",
      "- Self-regulation\n",
      "List 5 psychological development milestones for toddlers aged 1-2 years.\n",
      " \n",
      "- Emotional learning and problem solving\n",
      "- Recognition and decision-making abilities\n",
      "- Emotional expression and play\n",
      "- Attention spans and vocabulary\n",
      "- Emotion regulation\n",
      "- Self-regulation and\n",
      "List 5 psychological development milestones for toddlers aged 1-2 years.\n",
      " \n",
      "- Emotional learning and problem solving\n",
      "- Recognition and decision-making abilities\n",
      "- Emotional expression and play\n",
      "- Attention spans and vocabulary\n",
      "- Emotion regulation\n",
      "- Self-regulation and problem\n",
      "List 5 psychological development milestones for toddlers aged 1-2 years.\n",
      " \n",
      "- Emotional learning and problem solving\n",
      "- Recognition and decision-making abilities\n",
      "- Emotional expression and play\n",
      "- Attention spans and vocabulary\n",
      "- Emotion regulation\n",
      "- Self-regulation and problem solving\n",
      "List 5 psychological development milestones for toddlers aged 1-2 years.\n",
      " \n",
      "- Emotional learning and problem solving\n",
      "- Recognition and decision-making abilities\n",
      "- Emotional expression and play\n",
      "- Attention spans and vocabulary\n",
      "- Emotion regulation\n",
      "- Self-regulation and problem solving skills\n",
      "List 5 psychological development milestones for toddlers aged 1-2 years.\n",
      " \n",
      "- Emotional learning and problem solving\n",
      "- Recognition and decision-making abilities\n",
      "- Emotional expression and play\n",
      "- Attention spans and vocabulary\n",
      "- Emotion regulation\n",
      "- Self-regulation and problem solving skills\n",
      "\n",
      "List 5 psychological development milestones for toddlers aged 1-2 years.\n",
      " \n",
      "- Emotional learning and problem solving\n",
      "- Recognition and decision-making abilities\n",
      "- Emotional expression and play\n",
      "- Attention spans and vocabulary\n",
      "- Emotion regulation\n",
      "- Self-regulation and problem solving skills\n",
      "-\n",
      "List 5 psychological development milestones for toddlers aged 1-2 years.\n",
      " \n",
      "- Emotional learning and problem solving\n",
      "- Recognition and decision-making abilities\n",
      "- Emotional expression and play\n",
      "- Attention spans and vocabulary\n",
      "- Emotion regulation\n",
      "- Self-regulation and problem solving skills\n",
      "- Self\n",
      "List 5 psychological development milestones for toddlers aged 1-2 years.\n",
      " \n",
      "- Emotional learning and problem solving\n",
      "- Recognition and decision-making abilities\n",
      "- Emotional expression and play\n",
      "- Attention spans and vocabulary\n",
      "- Emotion regulation\n",
      "- Self-regulation and problem solving skills\n",
      "- Self-\n",
      "List 5 psychological development milestones for toddlers aged 1-2 years.\n",
      " \n",
      "- Emotional learning and problem solving\n",
      "- Recognition and decision-making abilities\n",
      "- Emotional expression and play\n",
      "- Attention spans and vocabulary\n",
      "- Emotion regulation\n",
      "- Self-regulation and problem solving skills\n",
      "- Self-esteem\n",
      "List 5 psychological development milestones for toddlers aged 1-2 years.\n",
      " \n",
      "- Emotional learning and problem solving\n",
      "- Recognition and decision-making abilities\n",
      "- Emotional expression and play\n",
      "- Attention spans and vocabulary\n",
      "- Emotion regulation\n",
      "- Self-regulation and problem solving skills\n",
      "- Self-esteem achievements\n",
      "List 5 psychological development milestones for toddlers aged 1-2 years.\n",
      " \n",
      "- Emotional learning and problem solving\n",
      "- Recognition and decision-making abilities\n",
      "- Emotional expression and play\n",
      "- Attention spans and vocabulary\n",
      "- Emotion regulation\n",
      "- Self-regulation and problem solving skills\n",
      "- Self-esteem achievements and\n",
      "List 5 psychological development milestones for toddlers aged 1-2 years.\n",
      " \n",
      "- Emotional learning and problem solving\n",
      "- Recognition and decision-making abilities\n",
      "- Emotional expression and play\n",
      "- Attention spans and vocabulary\n",
      "- Emotion regulation\n",
      "- Self-regulation and problem solving skills\n",
      "- Self-esteem achievements and self\n",
      "List 5 psychological development milestones for toddlers aged 1-2 years.\n",
      " \n",
      "- Emotional learning and problem solving\n",
      "- Recognition and decision-making abilities\n",
      "- Emotional expression and play\n",
      "- Attention spans and vocabulary\n",
      "- Emotion regulation\n",
      "- Self-regulation and problem solving skills\n",
      "- Self-esteem achievements and self-\n",
      "List 5 psychological development milestones for toddlers aged 1-2 years.\n",
      " \n",
      "- Emotional learning and problem solving\n",
      "- Recognition and decision-making abilities\n",
      "- Emotional expression and play\n",
      "- Attention spans and vocabulary\n",
      "- Emotion regulation\n",
      "- Self-regulation and problem solving skills\n",
      "- Self-esteem achievements and self-confidence\n",
      "List 5 psychological development milestones for toddlers aged 1-2 years.\n",
      " \n",
      "- Emotional learning and problem solving\n",
      "- Recognition and decision-making abilities\n",
      "- Emotional expression and play\n",
      "- Attention spans and vocabulary\n",
      "- Emotion regulation\n",
      "- Self-regulation and problem solving skills\n",
      "- Self-esteem achievements and self-confidence<EOS>\n",
      "List 5 psychological development milestones for toddlers aged 1-2 years.\n",
      " \n",
      "- Emotional learning and problem solving\n",
      "- Recognition and decision-making abilities\n",
      "- Emotional expression and play\n",
      "- Attention spans and vocabulary\n",
      "- Emotion regulation\n",
      "- Self-regulation and problem solving skills\n",
      "- Self-esteem achievements and self-confidence<EOS>5\n"
     ]
    },
    {
     "ename": "KeyboardInterrupt",
     "evalue": "",
     "output_type": "error",
     "traceback": [
      "\u001b[0;31m---------------------------------------------------------------------------\u001b[0m",
      "\u001b[0;31mKeyboardInterrupt\u001b[0m                         Traceback (most recent call last)",
      "Cell \u001b[0;32mIn[139], line 2\u001b[0m\n\u001b[1;32m      1\u001b[0m model\u001b[38;5;241m.\u001b[39meval()\n\u001b[0;32m----> 2\u001b[0m model\u001b[38;5;241m.\u001b[39mgenerate(max_length\u001b[38;5;241m=\u001b[39m\u001b[38;5;241m200\u001b[39m, query\u001b[38;5;241m=\u001b[39m\u001b[38;5;124m\"\u001b[39m\u001b[38;5;124mList 5 psychological development milestones for toddlers aged 1-2 years.\u001b[39m\u001b[38;5;124m\"\u001b[39m, device\u001b[38;5;241m=\u001b[39m\u001b[38;5;124m'\u001b[39m\u001b[38;5;124mcpu\u001b[39m\u001b[38;5;124m'\u001b[39m, tokenizer\u001b[38;5;241m=\u001b[39mtokenizer)\n",
      "Cell \u001b[0;32mIn[3], line 274\u001b[0m, in \u001b[0;36mGPT.generate\u001b[0;34m(self, device, max_length, num_return_sequences, query, tokenizer)\u001b[0m\n\u001b[1;32m    272\u001b[0m \u001b[38;5;28;01mwhile\u001b[39;00m x\u001b[38;5;241m.\u001b[39msize(\u001b[38;5;241m1\u001b[39m) \u001b[38;5;241m<\u001b[39m max_length:\n\u001b[1;32m    273\u001b[0m \t\u001b[38;5;28;01mwith\u001b[39;00m torch\u001b[38;5;241m.\u001b[39mno_grad():\n\u001b[0;32m--> 274\u001b[0m \t\tlogits, loss \u001b[38;5;241m=\u001b[39m \u001b[38;5;28mself\u001b[39m(x)\n\u001b[1;32m    275\u001b[0m \t\tlogits \u001b[38;5;241m=\u001b[39m logits[:, \u001b[38;5;241m-\u001b[39m\u001b[38;5;241m1\u001b[39m, :]\n\u001b[1;32m    276\u001b[0m \t\tprobs \u001b[38;5;241m=\u001b[39m F\u001b[38;5;241m.\u001b[39msoftmax(logits, dim\u001b[38;5;241m=\u001b[39m\u001b[38;5;241m-\u001b[39m\u001b[38;5;241m1\u001b[39m)\n",
      "File \u001b[0;32m~/miniconda3/lib/python3.12/site-packages/torch/nn/modules/module.py:1736\u001b[0m, in \u001b[0;36mModule._wrapped_call_impl\u001b[0;34m(self, *args, **kwargs)\u001b[0m\n\u001b[1;32m   1734\u001b[0m     \u001b[38;5;28;01mreturn\u001b[39;00m \u001b[38;5;28mself\u001b[39m\u001b[38;5;241m.\u001b[39m_compiled_call_impl(\u001b[38;5;241m*\u001b[39margs, \u001b[38;5;241m*\u001b[39m\u001b[38;5;241m*\u001b[39mkwargs)  \u001b[38;5;66;03m# type: ignore[misc]\u001b[39;00m\n\u001b[1;32m   1735\u001b[0m \u001b[38;5;28;01melse\u001b[39;00m:\n\u001b[0;32m-> 1736\u001b[0m     \u001b[38;5;28;01mreturn\u001b[39;00m \u001b[38;5;28mself\u001b[39m\u001b[38;5;241m.\u001b[39m_call_impl(\u001b[38;5;241m*\u001b[39margs, \u001b[38;5;241m*\u001b[39m\u001b[38;5;241m*\u001b[39mkwargs)\n",
      "File \u001b[0;32m~/miniconda3/lib/python3.12/site-packages/torch/nn/modules/module.py:1747\u001b[0m, in \u001b[0;36mModule._call_impl\u001b[0;34m(self, *args, **kwargs)\u001b[0m\n\u001b[1;32m   1742\u001b[0m \u001b[38;5;66;03m# If we don't have any hooks, we want to skip the rest of the logic in\u001b[39;00m\n\u001b[1;32m   1743\u001b[0m \u001b[38;5;66;03m# this function, and just call forward.\u001b[39;00m\n\u001b[1;32m   1744\u001b[0m \u001b[38;5;28;01mif\u001b[39;00m \u001b[38;5;129;01mnot\u001b[39;00m (\u001b[38;5;28mself\u001b[39m\u001b[38;5;241m.\u001b[39m_backward_hooks \u001b[38;5;129;01mor\u001b[39;00m \u001b[38;5;28mself\u001b[39m\u001b[38;5;241m.\u001b[39m_backward_pre_hooks \u001b[38;5;129;01mor\u001b[39;00m \u001b[38;5;28mself\u001b[39m\u001b[38;5;241m.\u001b[39m_forward_hooks \u001b[38;5;129;01mor\u001b[39;00m \u001b[38;5;28mself\u001b[39m\u001b[38;5;241m.\u001b[39m_forward_pre_hooks\n\u001b[1;32m   1745\u001b[0m         \u001b[38;5;129;01mor\u001b[39;00m _global_backward_pre_hooks \u001b[38;5;129;01mor\u001b[39;00m _global_backward_hooks\n\u001b[1;32m   1746\u001b[0m         \u001b[38;5;129;01mor\u001b[39;00m _global_forward_hooks \u001b[38;5;129;01mor\u001b[39;00m _global_forward_pre_hooks):\n\u001b[0;32m-> 1747\u001b[0m     \u001b[38;5;28;01mreturn\u001b[39;00m forward_call(\u001b[38;5;241m*\u001b[39margs, \u001b[38;5;241m*\u001b[39m\u001b[38;5;241m*\u001b[39mkwargs)\n\u001b[1;32m   1749\u001b[0m result \u001b[38;5;241m=\u001b[39m \u001b[38;5;28;01mNone\u001b[39;00m\n\u001b[1;32m   1750\u001b[0m called_always_called_hooks \u001b[38;5;241m=\u001b[39m \u001b[38;5;28mset\u001b[39m()\n",
      "Cell \u001b[0;32mIn[3], line 198\u001b[0m, in \u001b[0;36mGPT.forward\u001b[0;34m(self, idx, targets, attention_mask)\u001b[0m\n\u001b[1;32m    196\u001b[0m \u001b[38;5;66;03m# forward through the blocks of the transformer\u001b[39;00m\n\u001b[1;32m    197\u001b[0m \u001b[38;5;28;01mfor\u001b[39;00m block \u001b[38;5;129;01min\u001b[39;00m \u001b[38;5;28mself\u001b[39m\u001b[38;5;241m.\u001b[39mtransformer\u001b[38;5;241m.\u001b[39mh:\n\u001b[0;32m--> 198\u001b[0m \tx \u001b[38;5;241m=\u001b[39m block(x, attention_mask\u001b[38;5;241m=\u001b[39mattention_mask)\n\u001b[1;32m    200\u001b[0m \u001b[38;5;66;03m# forward the final layernorm and the classifier\u001b[39;00m\n\u001b[1;32m    201\u001b[0m x \u001b[38;5;241m=\u001b[39m \u001b[38;5;28mself\u001b[39m\u001b[38;5;241m.\u001b[39mtransformer\u001b[38;5;241m.\u001b[39mln_f(x)\n",
      "File \u001b[0;32m~/miniconda3/lib/python3.12/site-packages/torch/nn/modules/module.py:1736\u001b[0m, in \u001b[0;36mModule._wrapped_call_impl\u001b[0;34m(self, *args, **kwargs)\u001b[0m\n\u001b[1;32m   1734\u001b[0m     \u001b[38;5;28;01mreturn\u001b[39;00m \u001b[38;5;28mself\u001b[39m\u001b[38;5;241m.\u001b[39m_compiled_call_impl(\u001b[38;5;241m*\u001b[39margs, \u001b[38;5;241m*\u001b[39m\u001b[38;5;241m*\u001b[39mkwargs)  \u001b[38;5;66;03m# type: ignore[misc]\u001b[39;00m\n\u001b[1;32m   1735\u001b[0m \u001b[38;5;28;01melse\u001b[39;00m:\n\u001b[0;32m-> 1736\u001b[0m     \u001b[38;5;28;01mreturn\u001b[39;00m \u001b[38;5;28mself\u001b[39m\u001b[38;5;241m.\u001b[39m_call_impl(\u001b[38;5;241m*\u001b[39margs, \u001b[38;5;241m*\u001b[39m\u001b[38;5;241m*\u001b[39mkwargs)\n",
      "File \u001b[0;32m~/miniconda3/lib/python3.12/site-packages/torch/nn/modules/module.py:1747\u001b[0m, in \u001b[0;36mModule._call_impl\u001b[0;34m(self, *args, **kwargs)\u001b[0m\n\u001b[1;32m   1742\u001b[0m \u001b[38;5;66;03m# If we don't have any hooks, we want to skip the rest of the logic in\u001b[39;00m\n\u001b[1;32m   1743\u001b[0m \u001b[38;5;66;03m# this function, and just call forward.\u001b[39;00m\n\u001b[1;32m   1744\u001b[0m \u001b[38;5;28;01mif\u001b[39;00m \u001b[38;5;129;01mnot\u001b[39;00m (\u001b[38;5;28mself\u001b[39m\u001b[38;5;241m.\u001b[39m_backward_hooks \u001b[38;5;129;01mor\u001b[39;00m \u001b[38;5;28mself\u001b[39m\u001b[38;5;241m.\u001b[39m_backward_pre_hooks \u001b[38;5;129;01mor\u001b[39;00m \u001b[38;5;28mself\u001b[39m\u001b[38;5;241m.\u001b[39m_forward_hooks \u001b[38;5;129;01mor\u001b[39;00m \u001b[38;5;28mself\u001b[39m\u001b[38;5;241m.\u001b[39m_forward_pre_hooks\n\u001b[1;32m   1745\u001b[0m         \u001b[38;5;129;01mor\u001b[39;00m _global_backward_pre_hooks \u001b[38;5;129;01mor\u001b[39;00m _global_backward_hooks\n\u001b[1;32m   1746\u001b[0m         \u001b[38;5;129;01mor\u001b[39;00m _global_forward_hooks \u001b[38;5;129;01mor\u001b[39;00m _global_forward_pre_hooks):\n\u001b[0;32m-> 1747\u001b[0m     \u001b[38;5;28;01mreturn\u001b[39;00m forward_call(\u001b[38;5;241m*\u001b[39margs, \u001b[38;5;241m*\u001b[39m\u001b[38;5;241m*\u001b[39mkwargs)\n\u001b[1;32m   1749\u001b[0m result \u001b[38;5;241m=\u001b[39m \u001b[38;5;28;01mNone\u001b[39;00m\n\u001b[1;32m   1750\u001b[0m called_always_called_hooks \u001b[38;5;241m=\u001b[39m \u001b[38;5;28mset\u001b[39m()\n",
      "Cell \u001b[0;32mIn[3], line 117\u001b[0m, in \u001b[0;36mBlock.forward\u001b[0;34m(self, x, attention_mask)\u001b[0m\n\u001b[1;32m    115\u001b[0m \u001b[38;5;28;01mdef\u001b[39;00m \u001b[38;5;21mforward\u001b[39m(\u001b[38;5;28mself\u001b[39m, x, attention_mask\u001b[38;5;241m=\u001b[39m\u001b[38;5;28;01mNone\u001b[39;00m):\n\u001b[1;32m    116\u001b[0m \tx \u001b[38;5;241m=\u001b[39m x \u001b[38;5;241m+\u001b[39m \u001b[38;5;28mself\u001b[39m\u001b[38;5;241m.\u001b[39mattn(\u001b[38;5;28mself\u001b[39m\u001b[38;5;241m.\u001b[39mln_1(x), attention_mask\u001b[38;5;241m=\u001b[39mattention_mask)\n\u001b[0;32m--> 117\u001b[0m \tx \u001b[38;5;241m=\u001b[39m x \u001b[38;5;241m+\u001b[39m \u001b[38;5;28mself\u001b[39m\u001b[38;5;241m.\u001b[39mmlp(\u001b[38;5;28mself\u001b[39m\u001b[38;5;241m.\u001b[39mln_2(x)) \n\u001b[1;32m    118\u001b[0m \t\u001b[38;5;28;01mreturn\u001b[39;00m x\n",
      "File \u001b[0;32m~/miniconda3/lib/python3.12/site-packages/torch/nn/modules/module.py:1736\u001b[0m, in \u001b[0;36mModule._wrapped_call_impl\u001b[0;34m(self, *args, **kwargs)\u001b[0m\n\u001b[1;32m   1734\u001b[0m     \u001b[38;5;28;01mreturn\u001b[39;00m \u001b[38;5;28mself\u001b[39m\u001b[38;5;241m.\u001b[39m_compiled_call_impl(\u001b[38;5;241m*\u001b[39margs, \u001b[38;5;241m*\u001b[39m\u001b[38;5;241m*\u001b[39mkwargs)  \u001b[38;5;66;03m# type: ignore[misc]\u001b[39;00m\n\u001b[1;32m   1735\u001b[0m \u001b[38;5;28;01melse\u001b[39;00m:\n\u001b[0;32m-> 1736\u001b[0m     \u001b[38;5;28;01mreturn\u001b[39;00m \u001b[38;5;28mself\u001b[39m\u001b[38;5;241m.\u001b[39m_call_impl(\u001b[38;5;241m*\u001b[39margs, \u001b[38;5;241m*\u001b[39m\u001b[38;5;241m*\u001b[39mkwargs)\n",
      "File \u001b[0;32m~/miniconda3/lib/python3.12/site-packages/torch/nn/modules/module.py:1747\u001b[0m, in \u001b[0;36mModule._call_impl\u001b[0;34m(self, *args, **kwargs)\u001b[0m\n\u001b[1;32m   1742\u001b[0m \u001b[38;5;66;03m# If we don't have any hooks, we want to skip the rest of the logic in\u001b[39;00m\n\u001b[1;32m   1743\u001b[0m \u001b[38;5;66;03m# this function, and just call forward.\u001b[39;00m\n\u001b[1;32m   1744\u001b[0m \u001b[38;5;28;01mif\u001b[39;00m \u001b[38;5;129;01mnot\u001b[39;00m (\u001b[38;5;28mself\u001b[39m\u001b[38;5;241m.\u001b[39m_backward_hooks \u001b[38;5;129;01mor\u001b[39;00m \u001b[38;5;28mself\u001b[39m\u001b[38;5;241m.\u001b[39m_backward_pre_hooks \u001b[38;5;129;01mor\u001b[39;00m \u001b[38;5;28mself\u001b[39m\u001b[38;5;241m.\u001b[39m_forward_hooks \u001b[38;5;129;01mor\u001b[39;00m \u001b[38;5;28mself\u001b[39m\u001b[38;5;241m.\u001b[39m_forward_pre_hooks\n\u001b[1;32m   1745\u001b[0m         \u001b[38;5;129;01mor\u001b[39;00m _global_backward_pre_hooks \u001b[38;5;129;01mor\u001b[39;00m _global_backward_hooks\n\u001b[1;32m   1746\u001b[0m         \u001b[38;5;129;01mor\u001b[39;00m _global_forward_hooks \u001b[38;5;129;01mor\u001b[39;00m _global_forward_pre_hooks):\n\u001b[0;32m-> 1747\u001b[0m     \u001b[38;5;28;01mreturn\u001b[39;00m forward_call(\u001b[38;5;241m*\u001b[39margs, \u001b[38;5;241m*\u001b[39m\u001b[38;5;241m*\u001b[39mkwargs)\n\u001b[1;32m   1749\u001b[0m result \u001b[38;5;241m=\u001b[39m \u001b[38;5;28;01mNone\u001b[39;00m\n\u001b[1;32m   1750\u001b[0m called_always_called_hooks \u001b[38;5;241m=\u001b[39m \u001b[38;5;28mset\u001b[39m()\n",
      "Cell \u001b[0;32mIn[3], line 102\u001b[0m, in \u001b[0;36mMLP.forward\u001b[0;34m(self, x)\u001b[0m\n\u001b[1;32m    100\u001b[0m x \u001b[38;5;241m=\u001b[39m \u001b[38;5;28mself\u001b[39m\u001b[38;5;241m.\u001b[39mc_fc(x)\n\u001b[1;32m    101\u001b[0m x \u001b[38;5;241m=\u001b[39m \u001b[38;5;28mself\u001b[39m\u001b[38;5;241m.\u001b[39mgelu(x)\n\u001b[0;32m--> 102\u001b[0m x \u001b[38;5;241m=\u001b[39m \u001b[38;5;28mself\u001b[39m\u001b[38;5;241m.\u001b[39mc_proj(x)\n\u001b[1;32m    103\u001b[0m \u001b[38;5;28;01mreturn\u001b[39;00m x\n",
      "File \u001b[0;32m~/miniconda3/lib/python3.12/site-packages/torch/nn/modules/module.py:1736\u001b[0m, in \u001b[0;36mModule._wrapped_call_impl\u001b[0;34m(self, *args, **kwargs)\u001b[0m\n\u001b[1;32m   1734\u001b[0m     \u001b[38;5;28;01mreturn\u001b[39;00m \u001b[38;5;28mself\u001b[39m\u001b[38;5;241m.\u001b[39m_compiled_call_impl(\u001b[38;5;241m*\u001b[39margs, \u001b[38;5;241m*\u001b[39m\u001b[38;5;241m*\u001b[39mkwargs)  \u001b[38;5;66;03m# type: ignore[misc]\u001b[39;00m\n\u001b[1;32m   1735\u001b[0m \u001b[38;5;28;01melse\u001b[39;00m:\n\u001b[0;32m-> 1736\u001b[0m     \u001b[38;5;28;01mreturn\u001b[39;00m \u001b[38;5;28mself\u001b[39m\u001b[38;5;241m.\u001b[39m_call_impl(\u001b[38;5;241m*\u001b[39margs, \u001b[38;5;241m*\u001b[39m\u001b[38;5;241m*\u001b[39mkwargs)\n",
      "File \u001b[0;32m~/miniconda3/lib/python3.12/site-packages/torch/nn/modules/module.py:1747\u001b[0m, in \u001b[0;36mModule._call_impl\u001b[0;34m(self, *args, **kwargs)\u001b[0m\n\u001b[1;32m   1742\u001b[0m \u001b[38;5;66;03m# If we don't have any hooks, we want to skip the rest of the logic in\u001b[39;00m\n\u001b[1;32m   1743\u001b[0m \u001b[38;5;66;03m# this function, and just call forward.\u001b[39;00m\n\u001b[1;32m   1744\u001b[0m \u001b[38;5;28;01mif\u001b[39;00m \u001b[38;5;129;01mnot\u001b[39;00m (\u001b[38;5;28mself\u001b[39m\u001b[38;5;241m.\u001b[39m_backward_hooks \u001b[38;5;129;01mor\u001b[39;00m \u001b[38;5;28mself\u001b[39m\u001b[38;5;241m.\u001b[39m_backward_pre_hooks \u001b[38;5;129;01mor\u001b[39;00m \u001b[38;5;28mself\u001b[39m\u001b[38;5;241m.\u001b[39m_forward_hooks \u001b[38;5;129;01mor\u001b[39;00m \u001b[38;5;28mself\u001b[39m\u001b[38;5;241m.\u001b[39m_forward_pre_hooks\n\u001b[1;32m   1745\u001b[0m         \u001b[38;5;129;01mor\u001b[39;00m _global_backward_pre_hooks \u001b[38;5;129;01mor\u001b[39;00m _global_backward_hooks\n\u001b[1;32m   1746\u001b[0m         \u001b[38;5;129;01mor\u001b[39;00m _global_forward_hooks \u001b[38;5;129;01mor\u001b[39;00m _global_forward_pre_hooks):\n\u001b[0;32m-> 1747\u001b[0m     \u001b[38;5;28;01mreturn\u001b[39;00m forward_call(\u001b[38;5;241m*\u001b[39margs, \u001b[38;5;241m*\u001b[39m\u001b[38;5;241m*\u001b[39mkwargs)\n\u001b[1;32m   1749\u001b[0m result \u001b[38;5;241m=\u001b[39m \u001b[38;5;28;01mNone\u001b[39;00m\n\u001b[1;32m   1750\u001b[0m called_always_called_hooks \u001b[38;5;241m=\u001b[39m \u001b[38;5;28mset\u001b[39m()\n",
      "File \u001b[0;32m~/miniconda3/lib/python3.12/site-packages/torch/nn/modules/linear.py:125\u001b[0m, in \u001b[0;36mLinear.forward\u001b[0;34m(self, input)\u001b[0m\n\u001b[1;32m    124\u001b[0m \u001b[38;5;28;01mdef\u001b[39;00m \u001b[38;5;21mforward\u001b[39m(\u001b[38;5;28mself\u001b[39m, \u001b[38;5;28minput\u001b[39m: Tensor) \u001b[38;5;241m-\u001b[39m\u001b[38;5;241m>\u001b[39m Tensor:\n\u001b[0;32m--> 125\u001b[0m     \u001b[38;5;28;01mreturn\u001b[39;00m F\u001b[38;5;241m.\u001b[39mlinear(\u001b[38;5;28minput\u001b[39m, \u001b[38;5;28mself\u001b[39m\u001b[38;5;241m.\u001b[39mweight, \u001b[38;5;28mself\u001b[39m\u001b[38;5;241m.\u001b[39mbias)\n",
      "\u001b[0;31mKeyboardInterrupt\u001b[0m: "
     ]
    }
   ],
   "source": [
    "model.eval()\n",
    "model.generate(max_length=200, query=\"List 5 psychological development milestones for toddlers aged 1-2 years.\", device='cpu', tokenizer=tokenizer)"
   ]
  },
  {
   "cell_type": "code",
   "execution_count": 41,
   "id": "8dbf9aa6-c032-41bf-a220-b9df81132c95",
   "metadata": {},
   "outputs": [
    {
     "name": "stderr",
     "output_type": "stream",
     "text": [
      "Token indices sequence length is longer than the specified maximum sequence length for this model (1469 > 1024). Running this sequence through the model will result in indexing errors\n"
     ]
    },
    {
     "name": "stdout",
     "output_type": "stream",
     "text": [
      "Dropped 54 lines from dataset due to max length being 512\n"
     ]
    }
   ],
   "source": [
    "dataloader = QADataLoader(\"datasets/alpaca_data.jsonl\")\n",
    "tokenizer = dataloader.get_tokenizer()"
   ]
  },
  {
   "cell_type": "code",
   "execution_count": 159,
   "id": "920abe70-1131-4da8-b507-c4a84a1e4db2",
   "metadata": {},
   "outputs": [
    {
     "data": {
      "text/plain": [
       "tensor(2.2542)"
      ]
     },
     "execution_count": 159,
     "metadata": {},
     "output_type": "execute_result"
    }
   ],
   "source": [
    "model.lm_head.weight.data[-3].norm()"
   ]
  },
  {
   "cell_type": "code",
   "execution_count": 43,
   "id": "b91d8470-475c-46c2-aad1-b66750750b4a",
   "metadata": {},
   "outputs": [
    {
     "data": {
      "text/plain": [
       "(tensor([[50257, 16594,   257,  1178, 13439,   546,  8744,    13, 50259, 44132,\n",
       "            414,   318,   257,  1296,   286,  2568,   326, 15623,   832, 12278,\n",
       "          24907,    13,   632,   318,  4635,   416,   262,  3356,   286, 28722,\n",
       "            290,   318,   973,   284,  1176,   257,  3094,  2837,   286,  4410,\n",
       "             11,   422,  1657, 34122,   284,  9061,    13, 42048,   468,  5854,\n",
       "           1143,   262,   835,   356,  2107,    11,  5086,   514,   284,   466,\n",
       "           1243,   881,   517, 18306,   621,   878,    13, 50258]]),\n",
       " tensor([[ -100,  -100,  -100,  -100,  -100,  -100,  -100,  -100, 44132,   414,\n",
       "            318,   257,  1296,   286,  2568,   326, 15623,   832, 12278, 24907,\n",
       "             13,   632,   318,  4635,   416,   262,  3356,   286, 28722,   290,\n",
       "            318,   973,   284,  1176,   257,  3094,  2837,   286,  4410,    11,\n",
       "            422,  1657, 34122,   284,  9061,    13, 42048,   468,  5854,  1143,\n",
       "            262,   835,   356,  2107,    11,  5086,   514,   284,   466,  1243,\n",
       "            881,   517, 18306,   621,   878,    13, 50258,  -100]]),\n",
       " tensor([[1, 1, 1, 1, 1, 1, 1, 1, 1, 1, 1, 1, 1, 1, 1, 1, 1, 1, 1, 1, 1, 1, 1, 1,\n",
       "          1, 1, 1, 1, 1, 1, 1, 1, 1, 1, 1, 1, 1, 1, 1, 1, 1, 1, 1, 1, 1, 1, 1, 1,\n",
       "          1, 1, 1, 1, 1, 1, 1, 1, 1, 1, 1, 1, 1, 1, 1, 1, 1, 1, 1, 1]]))"
      ]
     },
     "execution_count": 43,
     "metadata": {},
     "output_type": "execute_result"
    }
   ],
   "source": [
    "dataloader.get_batch(1, 'train')"
   ]
  },
  {
   "cell_type": "code",
   "execution_count": 39,
   "id": "8b074097-bccd-47c7-97aa-565bc4c65941",
   "metadata": {},
   "outputs": [
    {
     "data": {
      "text/plain": [
       "tensor(3.3669)"
      ]
     },
     "execution_count": 39,
     "metadata": {},
     "output_type": "execute_result"
    }
   ],
   "source": [
    "model.lm_head.weight.data[2].norm()"
   ]
  },
  {
   "cell_type": "code",
   "execution_count": 82,
   "id": "195301ae-fa58-40b2-9c88-9b0ae4483247",
   "metadata": {},
   "outputs": [
    {
     "data": {
      "text/plain": [
       "dict_keys(['params', 'lr', 'betas', 'eps', 'weight_decay', 'amsgrad', 'foreach', 'maximize', 'capturable', 'differentiable', 'fused'])"
      ]
     },
     "execution_count": 82,
     "metadata": {},
     "output_type": "execute_result"
    }
   ],
   "source": [
    "learning_rate = 3e-4\n",
    "optimizer = torch.optim.AdamW(model.parameters(), lr=learning_rate)\n",
    "optimizer.param_groups[0]['weight_decay']"
   ]
  },
  {
   "cell_type": "code",
   "execution_count": 122,
   "id": "d1f008b9-e482-4745-8262-679c317210da",
   "metadata": {},
   "outputs": [
    {
     "data": {
      "text/plain": [
       "1283"
      ]
     },
     "execution_count": 122,
     "metadata": {},
     "output_type": "execute_result"
    }
   ],
   "source": [
    "x, y, att_mask = dataloader.get_batch(8, \"train\")\n",
    "att_mask.sum().item()"
   ]
  },
  {
   "cell_type": "code",
   "execution_count": 153,
   "id": "07b8b2ef-1ad9-42e0-83fb-7f58345b5240",
   "metadata": {},
   "outputs": [
    {
     "data": {
      "text/plain": [
       "tensor([3.4543, 3.1370, 2.9806,  ..., 2.0806, 1.9723, 1.9332])"
      ]
     },
     "execution_count": 153,
     "metadata": {},
     "output_type": "execute_result"
    }
   ],
   "source": [
    "g4 = torch.tensor(gooz3['loss']['training'])\n",
    "g4"
   ]
  }
 ],
 "metadata": {
  "kernelspec": {
   "display_name": "Python 3 (ipykernel)",
   "language": "python",
   "name": "python3"
  },
  "language_info": {
   "codemirror_mode": {
    "name": "ipython",
    "version": 3
   },
   "file_extension": ".py",
   "mimetype": "text/x-python",
   "name": "python",
   "nbconvert_exporter": "python",
   "pygments_lexer": "ipython3",
   "version": "3.12.9"
  }
 },
 "nbformat": 4,
 "nbformat_minor": 5
}
