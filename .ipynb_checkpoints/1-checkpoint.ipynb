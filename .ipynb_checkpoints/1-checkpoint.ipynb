{
 "cells": [
  {
   "cell_type": "code",
   "execution_count": 1,
   "id": "15928746-c88c-412f-a6b8-4303acbea481",
   "metadata": {},
   "outputs": [],
   "source": [
    "import json"
   ]
  },
  {
   "cell_type": "code",
   "execution_count": 47,
   "id": "4d2dcd51-8f9e-4a95-801a-5a25b91b7de0",
   "metadata": {},
   "outputs": [
    {
     "name": "stdout",
     "output_type": "stream",
     "text": [
      "Keys: ['version', 'data']\n"
     ]
    }
   ],
   "source": [
    "with open('questions.json', 'r') as file:\n",
    "    data = json.load(file)\n",
    "\n",
    "    if isinstance(data, dict):\n",
    "        print(\"Keys:\", list(data.keys()))\n",
    "\n",
    "    data = data['data']"
   ]
  },
  {
   "cell_type": "code",
   "execution_count": null,
   "id": "01f130c1-1468-4ceb-b760-3aa852e99311",
   "metadata": {},
   "outputs": [],
   "source": [
    "data[400]['paragraphs'][1]['qas'][1]['answers'][0].get('text')"
   ]
  },
  {
   "cell_type": "code",
   "execution_count": 83,
   "id": "5ddb0d04-2921-4066-96f7-d75160618229",
   "metadata": {},
   "outputs": [
    {
     "data": {
      "text/plain": [
       "[{'text': 'the Church holds that Mary was also sinless personally, \"free from all sin, original or personal',\n",
       "  'answer_start': 160}]"
      ]
     },
     "execution_count": 83,
     "metadata": {},
     "output_type": "execute_result"
    }
   ],
   "source": [
    "data[400]['paragraphs'][1]['qas'][1].get('answers')"
   ]
  },
  {
   "cell_type": "code",
   "execution_count": 113,
   "id": "2e96f7e0-2473-48f5-a987-a2f3944481e8",
   "metadata": {},
   "outputs": [],
   "source": [
    "gooz = []"
   ]
  },
  {
   "cell_type": "code",
   "execution_count": 114,
   "id": "a10cc779-8f4b-48d7-8b61-7db183a6b83c",
   "metadata": {},
   "outputs": [],
   "source": [
    "import pandas as pd\n",
    "\n",
    "for i in range(len(data)):\n",
    "    paragraphs = data[i]['paragraphs']\n",
    "    for j in range(len(paragraphs)):\n",
    "        qas = paragraphs[j]['qas']\n",
    "        for k in range(len(qas)):\n",
    "            question = qas[k]['question']\n",
    "            answer = qas[k].get('answers')\n",
    "            if len(answer) > 0:\n",
    "                # text = answer\n",
    "                completion = answer[0].get('text')\n",
    "            if question != '':\n",
    "                prompt = question\n",
    "            gooz.append({\"prompt\": question, \"completion\": completion})\n",
    "            # text = \"Q: \" + prompt + \" A: \" + completion\n",
    "            # gooz.append(text)\n",
    "\n"
   ]
  },
  {
   "cell_type": "code",
   "execution_count": null,
   "id": "61a2d073-563b-464c-9216-a11c36ce9cab",
   "metadata": {},
   "outputs": [],
   "source": [
    "gooz[::100]"
   ]
  },
  {
   "cell_type": "code",
   "execution_count": 126,
   "id": "84aa430e-46f0-461e-a8bc-90826a0f71a6",
   "metadata": {},
   "outputs": [],
   "source": [
    "import pandas as pd\n",
    "\n",
    "df = pd.DataFrame(gooz)"
   ]
  },
  {
   "cell_type": "code",
   "execution_count": 132,
   "id": "8c155823-0ee4-44eb-aa10-70cf1221fe30",
   "metadata": {},
   "outputs": [
    {
     "data": {
      "text/plain": [
       "239"
      ]
     },
     "execution_count": 132,
     "metadata": {},
     "output_type": "execute_result"
    }
   ],
   "source": [
    "df['completion'].str.len().max()"
   ]
  },
  {
   "cell_type": "code",
   "execution_count": 136,
   "id": "bd60528a-0b35-44b3-a73c-58fdeea4bea3",
   "metadata": {},
   "outputs": [
    {
     "name": "stdout",
     "output_type": "stream",
     "text": [
      "Dictionary successfully saved to qa_dataset.json1\n"
     ]
    }
   ],
   "source": [
    "file_path = \"qa_dataset.json1\"\n",
    "\n",
    "try:\n",
    "    with open(file_path, 'w') as json_file:\n",
    "        json.dump(gooz, json_file, indent=4)\n",
    "    print(f\"Dictionary successfully saved to {file_path}\")\n",
    "except IOError as e:\n",
    "    print(f\"Error saving file: {e}\")"
   ]
  },
  {
   "cell_type": "code",
   "execution_count": 207,
   "id": "9447e285-f4f9-477c-9ecf-5d6ab05a2054",
   "metadata": {},
   "outputs": [],
   "source": [
    "import json\n",
    "\n",
    "with open(\"qa_dataset.json\", \"r\") as f_in, open(\"qa_dataset.jsonl\", \"w\") as f_out:\n",
    "    data = json.load(f_in)  # Loads the list of objects\n",
    "    for item in data:\n",
    "        json.dump(item, f_out)\n",
    "        f_out.write('\\n')  # Write each object on its own line"
   ]
  },
  {
   "cell_type": "code",
   "execution_count": 142,
   "id": "91be84ea-7e12-49c4-9147-6dd9aea17856",
   "metadata": {},
   "outputs": [
    {
     "data": {
      "text/plain": [
       "27"
      ]
     },
     "execution_count": 142,
     "metadata": {},
     "output_type": "execute_result"
    }
   ],
   "source": [
    "import tiktoken\n",
    "\n",
    "encoder = tiktoken.get_encoding('gpt2')\n",
    "encoder.encode(\"<BOS>\")[0]"
   ]
  },
  {
   "cell_type": "code",
   "execution_count": 149,
   "id": "8d4a5cc2-71a3-453b-a617-3676620414e0",
   "metadata": {},
   "outputs": [
    {
     "data": {
      "text/plain": [
       "[15496, 616, 1545]"
      ]
     },
     "execution_count": 149,
     "metadata": {},
     "output_type": "execute_result"
    }
   ],
   "source": [
    "from transformers import GPT2Tokenizer\n",
    "\n",
    "tokenizer = GPT2Tokenizer.from_pretrained(\"gpt2\")\n",
    "\n",
    "# tokenizer.get_vocab()\n",
    "tokenizer.encode(\"Hello my friend\")"
   ]
  },
  {
   "cell_type": "code",
   "execution_count": 150,
   "id": "af6eb671-5a10-4540-82b2-26eaa815e0db",
   "metadata": {},
   "outputs": [
    {
     "data": {
      "text/plain": [
       "4"
      ]
     },
     "execution_count": 150,
     "metadata": {},
     "output_type": "execute_result"
    }
   ],
   "source": [
    "special_tokens_dict = {\n",
    "    \"bos_token\": \"<BOS>\",\n",
    "    \"eos_token\": \"<EOS>\",\n",
    "    \"sep_token\": \"<SEP>\",\n",
    "    \"pad_token\": \"<PAD>\"\n",
    "}\n",
    "tokenizer.add_special_tokens(special_tokens_dict)"
   ]
  },
  {
   "cell_type": "code",
   "execution_count": 270,
   "id": "9b1114d0-b75d-4913-9c41-204aa8fa0910",
   "metadata": {},
   "outputs": [
    {
     "data": {
      "text/plain": [
       "'<When did Beyonce start becoming popular?<in the late 1990s<'"
      ]
     },
     "execution_count": 270,
     "metadata": {},
     "output_type": "execute_result"
    }
   ],
   "source": [
    "# len(tokenizer.get_vocab())\n",
    "# tokenizer.get_vocab()[\"<PAD>\"]\n",
    "# tokenizer.encode(\"<PAD>\")\n",
    "tokenizer.decode([27, 2215, 750, 37361, 344, 923, 5033, 2968, 30, 27, 259, 262, 2739, 6303, 82, 27])"
   ]
  },
  {
   "cell_type": "code",
   "execution_count": 278,
   "id": "ec42b735-c972-484f-bbfd-e99cc0e74cd5",
   "metadata": {},
   "outputs": [],
   "source": [
    "import json\n",
    "import random\n",
    "from transformers import GPT2Tokenizer\n",
    "\n",
    "class QADataLoader:\n",
    "    def __init__(self, filepath, max_length=512, shuffle=True):\n",
    "        self.tokenizer = GPT2Tokenizer.from_pretrained(\"gpt2\")\n",
    "        self.max_length = max_length\n",
    "        self.shuffle = shuffle\n",
    "\n",
    "        self.tokenizer.add_special_tokens({\n",
    "            \"bos_token\": \"<BOS>\",\n",
    "            \"eos_token\": \"<EOS>\",\n",
    "            \"sep_token\": \"<SEP>\",\n",
    "            \"pad_token\": \"<PAD>\"\n",
    "        })\n",
    "\n",
    "        self.special_tokens = {\n",
    "            \"<BOS>\": self.tokenizer.encode(\"<BOS>\")[0],\n",
    "            \"<SEP>\": self.tokenizer.encode(\"<SEP>\")[0],\n",
    "            \"<EOS>\": self.tokenizer.encode(\"<EOS>\")[0],\n",
    "            \"<PAD>\": self.tokenizer.encode(\"<PAD>\")[0]\n",
    "        }\n",
    "\n",
    "        self.samples = []\n",
    "        with open(filepath, 'r') as f:\n",
    "            for line in f:\n",
    "                item = json.loads(line.strip())\n",
    "                print(item)\n",
    "                q, a = item[\"prompt\"], item[\"completion\"]\n",
    "                tokens = self.encode_sample(q, a)\n",
    "                if len(tokens[\"input_ids\"]) <= self.max_length:\n",
    "                    self.samples.append(tokens)\n",
    "\n",
    "    def encode_sample(self, question, answer):\n",
    "        q_tokens = self.tokenizer.encode(question)\n",
    "        a_tokens = self.tokenizer.encode(answer)\n",
    "\n",
    "        print(q_tokens)\n",
    "\n",
    "        input_ids = (\n",
    "            [self.special_tokens[\"<BOS>\"]] + \n",
    "            q_tokens + \n",
    "            [self.special_tokens[\"<SEP>\"]] +\n",
    "            a_tokens +\n",
    "            [self.special_tokens[\"<EOS>\"]]\n",
    "        )\n",
    "\n",
    "        print(input_ids)\n",
    "\n",
    "        label_ids = (\n",
    "            [-100] * (1 + len(q_tokens) + 1) + \n",
    "            a_tokens +\n",
    "            [self.special_tokens[\"<EOS>\"]]\n",
    "         )\n",
    "\n",
    "        return {\"input_ids\": input_ids, \"label_ids\": label_ids}     \n",
    "\n",
    "\n",
    "    def __len__(self):\n",
    "        return len(self.samples)\n",
    "\n",
    "    def get_batch(self, batch_size):\n",
    "        if self.shuffle:\n",
    "            batch = random.sample(self.samples, batch_size)\n",
    "        else:\n",
    "            batch = self.samples[:batch_size]\n",
    "        \n",
    "        max_len = max(len(sample[\"input_ids\"]) for sample in batch)\n",
    "        input_ids_batch = []\n",
    "        label_ids_batch = []\n",
    "\n",
    "        for sample in batch:\n",
    "            pad_len = max_len - len(sample[\"input_ids\"])\n",
    "            input_ids_batch.append(sample[\"input_ids\"] + [self.special_tokens[\"<PAD>\"]] * pad_len)\n",
    "            label_ids_batch.append(sample[\"label_ids\"] + [-100] * pad_len)\n",
    "        \n",
    "        \n",
    "        return {\"input_ids\": input_ids_batch, \"label_ids\": label_ids_batch}     "
   ]
  },
  {
   "cell_type": "code",
   "execution_count": 279,
   "id": "112b04cd-b5c4-4e81-bd60-91c5f192ee2d",
   "metadata": {},
   "outputs": [
    {
     "name": "stdout",
     "output_type": "stream",
     "text": [
      "{'prompt': 'When did Beyonce start becoming popular?', 'completion': 'in the late 1990s'}\n",
      "[2215, 750, 37361, 344, 923, 5033, 2968, 30]\n",
      "[27, 2215, 750, 37361, 344, 923, 5033, 2968, 30, 27, 259, 262, 2739, 6303, 82, 27]\n",
      "{'prompt': 'What areas did Beyonce compete in when she was growing up?', 'completion': 'singing and dancing'}\n",
      "[2061, 3006, 750, 37361, 344, 9320, 287, 618, 673, 373, 3957, 510, 30]\n",
      "[27, 2061, 3006, 750, 37361, 344, 9320, 287, 618, 673, 373, 3957, 510, 30, 27, 12215, 278, 290, 15360, 27]\n",
      "{'prompt': \"When did Beyonce leave Destiny's Child and become a solo singer?\", 'completion': '2003'}\n",
      "[2215, 750, 37361, 344, 2666, 17886, 338, 5932, 290, 1716, 257, 12199, 14015, 30]\n",
      "[27, 2215, 750, 37361, 344, 2666, 17886, 338, 5932, 290, 1716, 257, 12199, 14015, 30, 27, 16088, 27]\n",
      "{'prompt': 'In what city and state did Beyonce  grow up? ', 'completion': 'Houston, Texas'}\n",
      "[818, 644, 1748, 290, 1181, 750, 37361, 344, 220, 1663, 510, 30, 220]\n",
      "[27, 818, 644, 1748, 290, 1181, 750, 37361, 344, 220, 1663, 510, 30, 220, 27, 33387, 11, 3936, 27]\n",
      "{'prompt': 'In which decade did Beyonce become famous?', 'completion': 'late 1990s'}\n",
      "[818, 543, 5707, 750, 37361, 344, 1716, 5863, 30]\n",
      "[27, 818, 543, 5707, 750, 37361, 344, 1716, 5863, 30, 27, 17660, 6303, 82, 27]\n",
      "{'prompt': 'In what R&B group was she the lead singer?', 'completion': \"Destiny's Child\"}\n",
      "[818, 644, 371, 5, 33, 1448, 373, 673, 262, 1085, 14015, 30]\n",
      "[27, 818, 644, 371, 5, 33, 1448, 373, 673, 262, 1085, 14015, 30, 27, 24159, 3541, 338, 5932, 27]\n",
      "{'prompt': 'What album made her a worldwide known artist?', 'completion': 'Dangerously in Love'}\n",
      "[2061, 5062, 925, 607, 257, 8688, 1900, 6802, 30]\n",
      "[27, 2061, 5062, 925, 607, 257, 8688, 1900, 6802, 30, 27, 35, 2564, 3481, 287, 5896, 27]\n",
      "{'prompt': \"Who managed the Destiny's Child group?\", 'completion': 'Mathew Knowles'}\n",
      "[8241, 5257, 262, 17886, 338, 5932, 1448, 30]\n",
      "[27, 8241, 5257, 262, 17886, 338, 5932, 1448, 30, 27, 19044, 6391, 9365, 829, 27]\n",
      "{'prompt': 'When did Beyoncé rise to fame?', 'completion': 'late 1990s'}\n",
      "[2215, 750, 37361, 32682, 4485, 284, 16117, 30]\n",
      "[27, 2215, 750, 37361, 32682, 4485, 284, 16117, 30, 27, 17660, 6303, 82, 27]\n",
      "{'prompt': \"What role did Beyoncé have in Destiny's Child?\", 'completion': 'lead singer'}\n",
      "[2061, 2597, 750, 37361, 32682, 423, 287, 17886, 338, 5932, 30]\n",
      "[27, 2061, 2597, 750, 37361, 32682, 423, 287, 17886, 338, 5932, 30, 27, 28230, 14015, 27]\n",
      "{'prompt': 'What was the first album Beyoncé released as a solo artist?', 'completion': 'Dangerously in Love'}\n",
      "[2061, 373, 262, 717, 5062, 37361, 32682, 2716, 355, 257, 12199, 6802, 30]\n",
      "[27, 2061, 373, 262, 717, 5062, 37361, 32682, 2716, 355, 257, 12199, 6802, 30, 27, 35, 2564, 3481, 287, 5896, 27]\n",
      "{'prompt': 'When did Beyoncé release Dangerously in Love?', 'completion': '2003'}\n",
      "[2215, 750, 37361, 32682, 2650, 20419, 3481, 287, 5896, 30]\n",
      "[27, 2215, 750, 37361, 32682, 2650, 20419, 3481, 287, 5896, 30, 27, 16088, 27]\n",
      "{'prompt': 'How many Grammy awards did Beyoncé win for her first solo album?', 'completion': 'five'}\n",
      "[2437, 867, 42235, 13304, 750, 37361, 32682, 1592, 329, 607, 717, 12199, 5062, 30]\n",
      "[27, 2437, 867, 42235, 13304, 750, 37361, 32682, 1592, 329, 607, 717, 12199, 5062, 30, 27, 13261, 27]\n",
      "{'prompt': \"What was Beyoncé's role in Destiny's Child?\", 'completion': 'lead singer'}\n",
      "[2061, 373, 37361, 32682, 338, 2597, 287, 17886, 338, 5932, 30]\n",
      "[27, 2061, 373, 37361, 32682, 338, 2597, 287, 17886, 338, 5932, 30, 27, 28230, 14015, 27]\n",
      "{'prompt': \"What was the name of Beyoncé's first solo album?\", 'completion': 'Dangerously in Love'}\n",
      "[2061, 373, 262, 1438, 286, 37361, 32682, 338, 717, 12199, 5062, 30]\n",
      "[27, 2061, 373, 262, 1438, 286, 37361, 32682, 338, 717, 12199, 5062, 30, 27, 35, 2564, 3481, 287, 5896, 27]\n",
      "{'prompt': 'After her second solo album, what other entertainment venture did Beyonce explore?', 'completion': 'acting'}\n",
      "[3260, 607, 1218, 12199, 5062, 11, 644, 584, 9739, 13189, 750, 37361, 344, 7301, 30]\n",
      "[27, 3260, 607, 1218, 12199, 5062, 11, 644, 584, 9739, 13189, 750, 37361, 344, 7301, 30, 27, 27362, 27]\n",
      "{'prompt': 'Which artist did Beyonce marry?', 'completion': 'Jay Z'}\n",
      "[13828, 6802, 750, 37361, 344, 12479, 30]\n",
      "[27, 13828, 6802, 750, 37361, 344, 12479, 30, 27, 30568, 1168, 27]\n",
      "{'prompt': 'To set the record for Grammys, how many did Beyonce win?', 'completion': 'six'}\n",
      "[2514, 900, 262, 1700, 329, 20159, 28744, 11, 703, 867, 750, 37361, 344, 1592, 30]\n",
      "[27, 2514, 900, 262, 1700, 329, 20159, 28744, 11, 703, 867, 750, 37361, 344, 1592, 30, 27, 19412, 27]\n",
      "{'prompt': 'For what movie did Beyonce receive  her first Golden Globe nomination?', 'completion': 'Dreamgirls'}\n",
      "[1890, 644, 3807, 750, 37361, 344, 3328, 220, 607, 717, 8407, 18260, 11872, 30]\n",
      "[27, 1890, 644, 3807, 750, 37361, 344, 3328, 220, 607, 717, 8407, 18260, 11872, 30, 27, 30571, 36960, 27]\n",
      "{'prompt': 'When did Beyonce take a hiatus in her career and take control of her management?', 'completion': '2010'}\n",
      "[2215, 750, 37361, 344, 1011, 257, 37009, 287, 607, 3451, 290, 1011, 1630, 286, 607, 4542, 30]\n",
      "[27, 2215, 750, 37361, 344, 1011, 257, 37009, 287, 607, 3451, 290, 1011, 1630, 286, 607, 4542, 30, 27, 10333, 27]\n",
      "{'prompt': 'Which album was darker in tone from her previous work?', 'completion': 'Beyoncé'}\n",
      "[13828, 5062, 373, 18646, 287, 8216, 422, 607, 2180, 670, 30]\n",
      "[27, 13828, 5062, 373, 18646, 287, 8216, 422, 607, 2180, 670, 30, 27, 21993, 261, 32682, 27]\n",
      "{'prompt': 'After what movie portraying Etta James, did Beyonce create Sasha Fierce?', 'completion': 'Cadillac Records'}\n",
      "[3260, 644, 3807, 42458, 412, 25854, 3700, 11, 750, 37361, 344, 2251, 32151, 376, 9798, 30]\n",
      "[27, 3260, 644, 3807, 42458, 412, 25854, 3700, 11, 750, 37361, 344, 2251, 32151, 376, 9798, 30, 27, 34, 324, 40607, 13407, 27]\n",
      "{'prompt': \"When did Destiny's Child end their group act?\", 'completion': 'June 2005'}\n",
      "[2215, 750, 17886, 338, 5932, 886, 511, 1448, 719, 30]\n",
      "[27, 2215, 750, 17886, 338, 5932, 886, 511, 1448, 719, 30, 27, 15749, 5075, 27]\n",
      "{'prompt': \"What was the name of Beyoncé's second solo album?\", 'completion': \"B'Day\"}\n",
      "[2061, 373, 262, 1438, 286, 37361, 32682, 338, 1218, 12199, 5062, 30]\n",
      "[27, 2061, 373, 262, 1438, 286, 37361, 32682, 338, 1218, 12199, 5062, 30, 27, 33, 6, 12393, 27]\n",
      "{'prompt': \"What was Beyoncé's first acting job, in 2006?\", 'completion': 'Dreamgirls'}\n",
      "[2061, 373, 37361, 32682, 338, 717, 7205, 1693, 11, 287, 4793, 30]\n",
      "[27, 2061, 373, 37361, 32682, 338, 717, 7205, 1693, 11, 287, 4793, 30, 27, 30571, 36960, 27]\n",
      "{'prompt': 'Who is Beyoncé married to?', 'completion': 'Jay Z'}\n",
      "[8241, 318, 37361, 32682, 6405, 284, 30]\n",
      "[27, 8241, 318, 37361, 32682, 6405, 284, 30, 27, 30568, 1168, 27]\n",
      "{'prompt': \"What is the name of Beyoncé's alter-ego?\", 'completion': 'Sasha Fierce'}\n",
      "[2061, 318, 262, 1438, 286, 37361, 32682, 338, 8343, 12, 1533, 78, 30]\n",
      "[27, 2061, 318, 262, 1438, 286, 37361, 32682, 338, 8343, 12, 1533, 78, 30, 27, 50, 14715, 376, 9798, 27]\n",
      "{'prompt': 'In her music, what are some recurring elements in them?', 'completion': 'love, relationships, and monogamy'}\n",
      "[818, 607, 2647, 11, 644, 389, 617, 24824, 4847, 287, 606, 30]\n",
      "[27, 818, 607, 2647, 11, 644, 389, 617, 24824, 4847, 287, 606, 30, 27, 23205, 11, 6958, 11, 290, 43173, 14814, 27]\n",
      "{'prompt': 'Time magazine named her one of the most 100 what people of the century?', 'completion': 'influential'}\n",
      "[7575, 7093, 3706, 607, 530, 286, 262, 749, 1802, 644, 661, 286, 262, 4289, 30]\n",
      "[27, 7575, 7093, 3706, 607, 530, 286, 262, 749, 1802, 644, 661, 286, 262, 4289, 30, 27, 10745, 2290, 1843, 27]\n",
      "{'prompt': 'Which magazine declared her the most dominant woman musician?', 'completion': 'Forbes'}\n",
      "[13828, 7093, 6875, 607, 262, 749, 11410, 2415, 21623, 30]\n",
      "[27, 13828, 7093, 6875, 607, 262, 749, 11410, 2415, 21623, 30, 27, 1890, 12636, 27]\n",
      "{'prompt': 'In which decade did the Recording Industry Association of America recognize Beyonce as the The Top Certified Artist?', 'completion': '2000s'}\n",
      "[818, 543, 5707, 750, 262, 43905, 17420, 5396, 286, 2253, 7564, 37361, 344, 355, 262, 383, 5849, 36054, 18902, 30]\n",
      "[27, 818, 543, 5707, 750, 262, 43905, 17420, 5396, 286, 2253, 7564, 37361, 344, 355, 262, 383, 5849, 36054, 18902, 30, 27, 11024, 82, 27]\n",
      "{'prompt': 'What magazine rated Beyonce as the most powerful female musician in 2015?', 'completion': 'Forbes'}\n",
      "[2061, 7093, 13178, 37361, 344, 355, 262, 749, 3665, 4048, 21623, 287, 1853, 30]\n",
      "[27, 2061, 7093, 13178, 37361, 344, 355, 262, 749, 3665, 4048, 21623, 287, 1853, 30, 27, 1890, 12636, 27]\n",
      "{'prompt': 'How did Beyonce describe herself as a feminist?', 'completion': 'modern-day feminist'}\n",
      "[2437, 750, 37361, 344, 6901, 5223, 355, 257, 14314, 30]\n",
      "[27, 2437, 750, 37361, 344, 6901, 5223, 355, 257, 14314, 30, 27, 23922, 12, 820, 14314, 27]\n",
      "{'prompt': 'In which years did Time rate Beyonce in the 100 most influential people in the world?', 'completion': '2013 and 2014'}\n",
      "[818, 543, 812, 750, 3862, 2494, 37361, 344, 287, 262, 1802, 749, 14212, 661, 287, 262, 995, 30]\n",
      "[27, 818, 543, 812, 750, 3862, 2494, 37361, 344, 287, 262, 1802, 749, 14212, 661, 287, 262, 995, 30, 27, 6390, 290, 1946, 27]\n",
      "{'prompt': 'How many records has Beyonce sold in her 19 year career?', 'completion': '118 million'}\n",
      "[2437, 867, 4406, 468, 37361, 344, 2702, 287, 607, 678, 614, 3451, 30]\n",
      "[27, 2437, 867, 4406, 468, 37361, 344, 2702, 287, 607, 678, 614, 3451, 30, 27, 16817, 1510, 27]\n",
      "{'prompt': \"How many records did Beyoncé sell as part of Destiny's Child?\", 'completion': '60 million'}\n",
      "[2437, 867, 4406, 750, 37361, 32682, 3677, 355, 636, 286, 17886, 338, 5932, 30]\n",
      "[27, 2437, 867, 4406, 750, 37361, 32682, 3677, 355, 636, 286, 17886, 338, 5932, 30, 27, 1899, 1510, 27]\n",
      "{'prompt': \"After leaving Destiny's Child, how many records did Beyoncé release under her own name?\", 'completion': '118 million'}\n",
      "[3260, 4305, 17886, 338, 5932, 11, 703, 867, 4406, 750, 37361, 32682, 2650, 739, 607, 898, 1438, 30]\n",
      "[27, 3260, 4305, 17886, 338, 5932, 11, 703, 867, 4406, 750, 37361, 32682, 2650, 739, 607, 898, 1438, 30, 27, 16817, 1510, 27]\n",
      "{'prompt': 'How many Grammy awards has Beyoncé won?', 'completion': '20'}\n",
      "[2437, 867, 42235, 13304, 468, 37361, 32682, 1839, 30]\n",
      "[27, 2437, 867, 42235, 13304, 468, 37361, 32682, 1839, 30, 27, 1238, 27]\n",
      "{'prompt': 'What magazine named Beyoncé as the most powerful female musician for 2015?', 'completion': 'Forbes'}\n",
      "[2061, 7093, 3706, 37361, 32682, 355, 262, 749, 3665, 4048, 21623, 329, 1853, 30]\n",
      "[27, 2061, 7093, 3706, 37361, 32682, 355, 262, 749, 3665, 4048, 21623, 329, 1853, 30, 27, 1890, 12636, 27]\n",
      "{'prompt': \"Beyonce's younger sibling also sang with her in what band?\", 'completion': \"Destiny's Child\"}\n",
      "[21993, 27078, 338, 7099, 33423, 635, 25889, 351, 607, 287, 644, 4097, 30]\n",
      "[27, 21993, 27078, 338, 7099, 33423, 635, 25889, 351, 607, 287, 644, 4097, 30, 27, 24159, 3541, 338, 5932, 27]\n",
      "{'prompt': 'Where did Beyonce get her name from?', 'completion': \"her mother's maiden name\"}\n",
      "[8496, 750, 37361, 344, 651, 607, 1438, 422, 30]\n",
      "[27, 8496, 750, 37361, 344, 651, 607, 1438, 422, 30, 27, 372, 2802, 338, 34827, 1438, 27]\n",
      "{'prompt': \"What race was Beyonce's father?\", 'completion': 'African-American'}\n",
      "[2061, 3234, 373, 37361, 344, 338, 2988, 30]\n",
      "[27, 2061, 3234, 373, 37361, 344, 338, 2988, 30, 27, 43032, 12, 7437, 27]\n",
      "{'prompt': \"Beyonce's childhood home believed in what religion?\", 'completion': 'Methodist'}\n",
      "[21993, 27078, 338, 9963, 1363, 4762, 287, 644, 5737, 30]\n",
      "[27, 21993, 27078, 338, 9963, 1363, 4762, 287, 644, 5737, 30, 27, 17410, 396, 27]\n",
      "{'prompt': \"Beyonce's father worked as a sales manager for what company?\", 'completion': 'Xerox'}\n",
      "[21993, 27078, 338, 2988, 3111, 355, 257, 4200, 4706, 329, 644, 1664, 30]\n",
      "[27, 21993, 27078, 338, 2988, 3111, 355, 257, 4200, 4706, 329, 644, 1664, 30, 27, 55, 263, 1140, 27]\n",
      "{'prompt': \"Beyonce's mother worked in what industry?\", 'completion': 'hairdresser and salon owner'}\n",
      "[21993, 27078, 338, 2802, 3111, 287, 644, 2831, 30]\n",
      "[27, 21993, 27078, 338, 2802, 3111, 287, 644, 2831, 30, 27, 27108, 49380, 263, 290, 46608, 4870, 27]\n",
      "{'prompt': \"What younger sister of Beyonce also appeared in Destiny's Child?\", 'completion': 'Solange'}\n",
      "[2061, 7099, 6621, 286, 37361, 344, 635, 4120, 287, 17886, 338, 5932, 30]\n",
      "[27, 2061, 7099, 6621, 286, 37361, 344, 635, 4120, 287, 17886, 338, 5932, 30, 27, 36949, 858, 27]\n",
      "{'prompt': 'Beyonce is a descendent of what Arcadian leader?', 'completion': 'Joseph Broussard'}\n",
      "[21993, 27078, 318, 257, 15350, 298, 286, 644, 10173, 18425, 3554, 30]\n",
      "[27, 21993, 27078, 318, 257, 15350, 298, 286, 644, 10173, 18425, 3554, 30, 27, 29458, 347, 472, 824, 446, 27]\n",
      "{'prompt': \"What company did Beyoncé's father work for when she was a child?\", 'completion': 'Xerox'}\n",
      "[2061, 1664, 750, 37361, 32682, 338, 2988, 670, 329, 618, 673, 373, 257, 1200, 30]\n",
      "[27, 2061, 1664, 750, 37361, 32682, 338, 2988, 670, 329, 618, 673, 373, 257, 1200, 30, 27, 55, 263, 1140, 27]\n",
      "{'prompt': \"What did Beyoncé's mother own when Beyoncé was a child?\", 'completion': 'salon'}\n",
      "[2061, 750, 37361, 32682, 338, 2802, 898, 618, 37361, 32682, 373, 257, 1200, 30]\n",
      "[27, 2061, 750, 37361, 32682, 338, 2802, 898, 618, 37361, 32682, 373, 257, 1200, 30, 27, 21680, 261, 27]\n",
      "{'prompt': \"What is the name of Beyoncé's younger sister?\", 'completion': 'Solange'}\n",
      "[2061, 318, 262, 1438, 286, 37361, 32682, 338, 7099, 6621, 30]\n",
      "[27, 2061, 318, 262, 1438, 286, 37361, 32682, 338, 7099, 6621, 30, 27, 36949, 858, 27]\n"
     ]
    }
   ],
   "source": [
    "dataloader = QADataLoader(\"qa_small_dataset.jsonl\", shuffle=False)"
   ]
  },
  {
   "cell_type": "code",
   "execution_count": 257,
   "id": "5546bc70-828d-4943-90a7-7760ea80107d",
   "metadata": {},
   "outputs": [
    {
     "data": {
      "text/plain": [
       "'<What recent Asian ancestry do some Marshall Island residents have?<Japanese<<<<<<<<'"
      ]
     },
     "execution_count": 257,
     "metadata": {},
     "output_type": "execute_result"
    }
   ],
   "source": [
    "batches = dataloader.get_batch(4)\n",
    "\n",
    "tokenizer.decode(batches[\"input_ids\"][3])\n",
    "\n",
    "\n",
    "# for batch in batches:\n",
    "#     print(len(batch['input_ids']))\n",
    "#     print(len(batch['label_ids']))"
   ]
  },
  {
   "cell_type": "code",
   "execution_count": 189,
   "id": "bdffc257-764e-43fc-b3f8-b925402f2bf1",
   "metadata": {},
   "outputs": [
    {
     "data": {
      "text/plain": [
       "([9, 6, 7, 7, 7, 9, 6, 0, 1, 0, 6, 8, 6, 7, 6, 2, 0, 6, 3, 9],\n",
       " [9,\n",
       "  6,\n",
       "  7,\n",
       "  7,\n",
       "  7,\n",
       "  9,\n",
       "  6,\n",
       "  0,\n",
       "  1,\n",
       "  0,\n",
       "  -100,\n",
       "  -100,\n",
       "  -100,\n",
       "  -100,\n",
       "  -100,\n",
       "  -100,\n",
       "  -100,\n",
       "  -100,\n",
       "  -100,\n",
       "  -100])"
      ]
     },
     "execution_count": 189,
     "metadata": {},
     "output_type": "execute_result"
    }
   ],
   "source": [
    "import numpy as np\n",
    "gooz_ids = np.random.randint(0, 10, size=20).tolist()\n",
    "gooz_labels = gooz_ids[:10]\n",
    "gooz_labels = gooz_labels + [-100] * 10\n",
    "gooz_ids, gooz_labels\n"
   ]
  }
 ],
 "metadata": {
  "kernelspec": {
   "display_name": "Python 3 (ipykernel)",
   "language": "python",
   "name": "python3"
  },
  "language_info": {
   "codemirror_mode": {
    "name": "ipython",
    "version": 3
   },
   "file_extension": ".py",
   "mimetype": "text/x-python",
   "name": "python",
   "nbconvert_exporter": "python",
   "pygments_lexer": "ipython3",
   "version": "3.12.9"
  }
 },
 "nbformat": 4,
 "nbformat_minor": 5
}
