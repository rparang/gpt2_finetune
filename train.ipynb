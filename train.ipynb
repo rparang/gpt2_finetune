{
 "cells": [
  {
   "cell_type": "code",
   "execution_count": 1,
   "id": "78a55215-ad62-43df-80fa-904c08fffa9b",
   "metadata": {},
   "outputs": [
    {
     "name": "stderr",
     "output_type": "stream",
     "text": [
      "/Users/reza/miniconda3/lib/python3.12/site-packages/tqdm/auto.py:21: TqdmWarning: IProgress not found. Please update jupyter and ipywidgets. See https://ipywidgets.readthedocs.io/en/stable/user_install.html\n",
      "  from .autonotebook import tqdm as notebook_tqdm\n"
     ]
    }
   ],
   "source": [
    "from transformers import GPT2LMHeadModel"
   ]
  },
  {
   "cell_type": "code",
   "execution_count": 2,
   "id": "de11c249-0e5e-4865-949a-a11ea5734bde",
   "metadata": {},
   "outputs": [],
   "source": [
    "model_hf = GPT2LMHeadModel.from_pretrained('gpt2')"
   ]
  },
  {
   "cell_type": "code",
   "execution_count": null,
   "id": "9e2abe85-ed0f-4cc2-9712-b63a0b33119f",
   "metadata": {},
   "outputs": [],
   "source": [
    "list(model_hf.modules())[0].transformer.h[0]"
   ]
  },
  {
   "cell_type": "code",
   "execution_count": 10,
   "id": "3037d627-21a3-4b8f-9606-469e3c75ac8d",
   "metadata": {},
   "outputs": [
    {
     "data": {
      "text/plain": [
       "GPT2LMHeadModel(\n",
       "  (transformer): GPT2Model(\n",
       "    (wte): Embedding(50257, 768)\n",
       "    (wpe): Embedding(1024, 768)\n",
       "    (drop): Dropout(p=0.1, inplace=False)\n",
       "    (h): ModuleList(\n",
       "      (0-11): 12 x GPT2Block(\n",
       "        (ln_1): LayerNorm((768,), eps=1e-05, elementwise_affine=True)\n",
       "        (attn): GPT2Attention(\n",
       "          (c_attn): Conv1D(nf=2304, nx=768)\n",
       "          (c_proj): Conv1D(nf=768, nx=768)\n",
       "          (attn_dropout): Dropout(p=0.1, inplace=False)\n",
       "          (resid_dropout): Dropout(p=0.1, inplace=False)\n",
       "        )\n",
       "        (ln_2): LayerNorm((768,), eps=1e-05, elementwise_affine=True)\n",
       "        (mlp): GPT2MLP(\n",
       "          (c_fc): Conv1D(nf=3072, nx=768)\n",
       "          (c_proj): Conv1D(nf=768, nx=3072)\n",
       "          (act): NewGELUActivation()\n",
       "          (dropout): Dropout(p=0.1, inplace=False)\n",
       "        )\n",
       "      )\n",
       "    )\n",
       "    (ln_f): LayerNorm((768,), eps=1e-05, elementwise_affine=True)\n",
       "  )\n",
       "  (lm_head): Linear(in_features=768, out_features=50257, bias=False)\n",
       ")"
      ]
     },
     "execution_count": 10,
     "metadata": {},
     "output_type": "execute_result"
    }
   ],
   "source": [
    "model_hf"
   ]
  },
  {
   "cell_type": "code",
   "execution_count": null,
   "id": "671b43ce-3c99-4a28-9c6a-29468a7747f1",
   "metadata": {},
   "outputs": [],
   "source": [
    "for k,v in model_hf.state_dict().items():\n",
    "    print(k, v.shape)"
   ]
  },
  {
   "cell_type": "code",
   "execution_count": null,
   "id": "fbfaf054-089b-45fe-ae89-90c7c5d212a0",
   "metadata": {},
   "outputs": [],
   "source": [
    "sd_hf = model_hf.state_dict()\n",
    "sd_keys_hf = sd_hf.keys()\n",
    "# for k in sd_keys_hf:\n",
    "#     print(k.endswith('.attn.bias'))\n",
    "sd_keys_hf"
   ]
  },
  {
   "cell_type": "code",
   "execution_count": 5,
   "id": "e7484553-5df1-4868-9e3e-d0b29494dff5",
   "metadata": {},
   "outputs": [],
   "source": [
    "import torch\n",
    "from torch.nn import functional as F"
   ]
  },
  {
   "cell_type": "code",
   "execution_count": 14,
   "id": "83c49fe1-b146-4766-8abd-46804924b0c7",
   "metadata": {},
   "outputs": [],
   "source": [
    "x = torch.randint(0, 50000, (4, 8))\n",
    "x\n",
    "logits = model_hf(x)"
   ]
  },
  {
   "cell_type": "code",
   "execution_count": 15,
   "id": "e5025976-e838-4a19-92a3-dd9029dda9e4",
   "metadata": {},
   "outputs": [
    {
     "data": {
      "text/plain": [
       "torch.Size([4, 8, 50257])"
      ]
     },
     "execution_count": 15,
     "metadata": {},
     "output_type": "execute_result"
    }
   ],
   "source": [
    "logits.logits.shape"
   ]
  },
  {
   "cell_type": "code",
   "execution_count": 21,
   "id": "0165706b-3e65-4259-8891-569525d20f82",
   "metadata": {},
   "outputs": [
    {
     "data": {
      "text/plain": [
       "torch.Size([32, 50257])"
      ]
     },
     "execution_count": 21,
     "metadata": {},
     "output_type": "execute_result"
    }
   ],
   "source": [
    "logits.logits.view(-1, 50257).shape"
   ]
  },
  {
   "cell_type": "code",
   "execution_count": 24,
   "id": "e146fee9-6866-46f1-b4bd-96dac96a23f4",
   "metadata": {},
   "outputs": [
    {
     "data": {
      "text/plain": [
       "torch.Size([32])"
      ]
     },
     "execution_count": 24,
     "metadata": {},
     "output_type": "execute_result"
    }
   ],
   "source": [
    "x.view(-1).shape"
   ]
  },
  {
   "cell_type": "code",
   "execution_count": null,
   "id": "0217644a-32f2-45a6-97f4-2e48a3053626",
   "metadata": {},
   "outputs": [],
   "source": [
    "list(model_hf(x).items())[0][1].shape"
   ]
  },
  {
   "cell_type": "code",
   "execution_count": null,
   "id": "3f1e8124-bbda-4e6b-94d5-2302e109e268",
   "metadata": {},
   "outputs": [],
   "source": [
    "max_length = 50\n",
    "num_return_sequences = 1\n",
    "\n",
    "import tiktoken\n",
    "enc = tiktoken.get_encoding('gpt2')\n",
    "tokens = enc.encode(\"Zebras are classified in the genus Equus (known as equines) along with horses\")\n",
    "tokens = torch.tensor(tokens, dtype=torch.long)\n",
    "tokens = tokens.unsqueeze(0)\n",
    "tokens = tokens.repeat(num_return_sequences,1)\n",
    "x = tokens\n",
    "x\n",
    "\n",
    "while x.size(1) < max_length:\n",
    "    with torch.no_grad():\n",
    "        logits = model_hf(x).logits\n",
    "        logits = logits[:, -1, :]\n",
    "        probs = F.softmax(logits, dim=-1)\n",
    "        topk_probs, topk_indices = torch.topk(probs, 50, dim=-1)\n",
    "        ix = torch.multinomial(topk_probs, 1)\n",
    "        xcol = torch.gather(topk_indices, -1, ix)\n",
    "        x = torch.cat((x, xcol), dim=1)\n",
    "\n",
    "        for i in range(num_return_sequences):\n",
    "            tokens = x[i, :].tolist()\n",
    "            decoded = enc.decode(tokens)\n",
    "            print(decoded)\n"
   ]
  },
  {
   "cell_type": "code",
   "execution_count": null,
   "id": "1f5a799d-e46e-4c17-88c1-c73dccaf802b",
   "metadata": {},
   "outputs": [],
   "source": [
    "logits = model_hf(tokens)\n",
    "logits = logits.logits"
   ]
  },
  {
   "cell_type": "code",
   "execution_count": null,
   "id": "503196b6-8303-4d30-8888-6f48566b4244",
   "metadata": {},
   "outputs": [],
   "source": [
    "logits = logits[:, -1, :] # (B, C)"
   ]
  },
  {
   "cell_type": "code",
   "execution_count": null,
   "id": "6e01c88a-c585-43a8-8b11-421f41af603e",
   "metadata": {},
   "outputs": [],
   "source": [
    "logits.shape"
   ]
  },
  {
   "cell_type": "code",
   "execution_count": null,
   "id": "1111d1d0-e726-4fbc-935e-f552bf3dcb9a",
   "metadata": {},
   "outputs": [],
   "source": [
    "probs = F.softmax(logits, dim=-1)\n",
    "probs"
   ]
  },
  {
   "cell_type": "code",
   "execution_count": null,
   "id": "4d571fe5-5459-49c5-b368-c958b538ca63",
   "metadata": {},
   "outputs": [],
   "source": [
    "# x = x.tolist()\n",
    "enc.decode(x[0])"
   ]
  },
  {
   "cell_type": "code",
   "execution_count": 9,
   "id": "6651a65d-3e74-437b-9b45-fb3d19243cb6",
   "metadata": {},
   "outputs": [
    {
     "name": "stderr",
     "output_type": "stream",
     "text": [
      "The attention mask and the pad token id were not set. As a consequence, you may observe unexpected behavior. Please pass your input's `attention_mask` to obtain reliable results.\n",
      "Setting `pad_token_id` to `eos_token_id`:50256 for open-end generation.\n"
     ]
    },
    {
     "data": {
      "text/plain": [
       "tensor([[36439, 34975, 18764, 11703, 30391, 21332, 28976, 13361,    13,  8457,\n",
       "           198,   198,   464,  1708,   318,   257,  1351,   286,   477,   262,\n",
       "         11933, 12782,   326,   389,  1695,   329,   779,   351],\n",
       "        [11065,  4212, 49673,  5496, 22674, 20194, 44449,  2761,    11,   290,\n",
       "           262,  1109,   326,   262,  5496,   318,   407,   257,  5496,    13,\n",
       "           198,   198,   464,  5496,   318,   407,   257,  5496],\n",
       "        [ 5807, 40841, 46574, 26804, 30433,  7710,   305, 19938,   284,   262,\n",
       "         40841,  5402,    13,   198,   198,   464,  5402,   373, 20325,   416,\n",
       "           262,  2679,    12,  3106,  1448,    11,   262,  2679],\n",
       "        [38114, 40623, 31736, 15685, 28000,  1153, 31412, 33938,    11,   314,\n",
       "          1101,   407,  1654,   611,   314,  1101,  1016,   284,   307,  1498,\n",
       "           284,   466,   428,    13,   314,  1101,   407,  1654]])"
      ]
     },
     "execution_count": 9,
     "metadata": {},
     "output_type": "execute_result"
    }
   ],
   "source": [
    "model_hf.generate(x)"
   ]
  }
 ],
 "metadata": {
  "kernelspec": {
   "display_name": "Python 3 (ipykernel)",
   "language": "python",
   "name": "python3"
  },
  "language_info": {
   "codemirror_mode": {
    "name": "ipython",
    "version": 3
   },
   "file_extension": ".py",
   "mimetype": "text/x-python",
   "name": "python",
   "nbconvert_exporter": "python",
   "pygments_lexer": "ipython3",
   "version": "3.12.9"
  }
 },
 "nbformat": 4,
 "nbformat_minor": 5
}
